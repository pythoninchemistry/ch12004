{
 "cells": [
  {
   "cell_type": "markdown",
   "id": "b50dbbfa-85cb-4461-bc78-290ed5c5221c",
   "metadata": {},
   "source": [
    "# Getting started"
   ]
  },
  {
   "cell_type": "markdown",
   "id": "7ce9b10e-389b-4cac-8d0c-56ec2fe14ae7",
   "metadata": {},
   "source": [
    "Before we dive, headfirst, into the fundamentals of programming in Python, let's take a whistle-stop tour of **running code** in a **Jupyter notebook**.\n",
    "\n",
    "First off, open up a new Jupyter notebook via **Noteable**, as described previously in [Lab 0](../lab_0/using_noteable.md) (If you haven't completed Lab 0, then now would be a good time...). You should be greeted with something like:\n",
    "\n",
    "![blank_notebook](images/blank_notebook.png) \n",
    "\n",
    "You should be able to see the `CH12004` folder you made in [Lab 0](../lab_0/using_noteable.md). Navigate to this folder by double clicking it.\n",
    "\n",
    "Now create a new notebook and name it `Lab 1`. It is good practice to give your notebooks a more descriptive title than \"Untitled\".\n",
    "\n",
    "Jupyter notebooks are made up of **cells**; in your new notebook, there will only be **one** cell at first: the grey box with `[ ]` to the left of it. We can start writing some code in a cell by clicking inside of it so that a **blue border** appears:\n",
    "\n",
    "![blue_border](images/blue_border.png)\n",
    "\n",
    "Now just start typing! \n",
    "\n",
    "![start_typing](images/start_typing.png)\n",
    "\n",
    "Here our code is pretty easy to interpret even if you've never learnt any Python before: `2+2`. At the moment, we have **written** this code, but we have not **run** it, so the calculation has not actually been performed.\n",
    "\n",
    "To **run** a cell in your Jupyter notebook, make sure it is currently selected (it should have a **blue border** ) and press <kbd>Shift</kbd> + <kbd>Enter</kbd>:\n",
    "\n",
    "![run_cell](images/run_cell.png)\n",
    "\n",
    "Sure enough we now have an **output**, here the result of our simple calculation of `2+2`. Notice the numbers in square brackets to the left of the cell itself: `[1]`. These represent the **order** in which our cells have been **run**. We can see this by running some more code (notice that Jupyter has added an empty **new cell** beneath the first one):\n",
    "\n",
    "![second_cell](images/second_cell.png)\n",
    "\n",
    "To reproduce the above, just type out the code in the second cell `5-2` and press <kbd>Shift</kbd> + <kbd>Enter</kbd> again. You should see that the second cell has `[2]` to the left of it, indicating that this cell was run **after** the previous one. If we select the **first** cell again and run it for a **second time**:\n",
    "\n",
    "![order](images/order.png)\n",
    "\n",
    "We see that the numbers to the left reflect this, showing that this cell was the **third** to be run overall: `[3]`.\n",
    "\n",
    "In this book of lab material, we will represent **code cells** like this:\n",
    "\n",
    "```python\n",
    "2+2\n",
    "```\n",
    "\n",
    "If we are interested in not only the code itself, but also what happens when it **runs**, then we will show both the **code** and the **output** like this:"
   ]
  },
  {
   "cell_type": "markdown",
   "id": "56b0ac7c",
   "metadata": {},
   "source": []
  },
  {
   "cell_type": "code",
   "execution_count": 11,
   "id": "d81fc2d4-15dd-45ef-9b03-eb9531d9eefb",
   "metadata": {},
   "outputs": [
    {
     "data": {
      "text/plain": [
       "4"
      ]
     },
     "execution_count": 11,
     "metadata": {},
     "output_type": "execute_result"
    }
   ],
   "source": [
    "2+2"
   ]
  },
  {
   "cell_type": "markdown",
   "id": "302fe1ae-0a02-4e4e-90cc-52939d105694",
   "metadata": {},
   "source": [
    "This is equivalent to:\n",
    "\n",
    "![run_cell](images/run_cell.png)"
   ]
  },
  {
   "cell_type": "markdown",
   "id": "ade27330-ae77-4f89-a610-b87edb99be17",
   "metadata": {},
   "source": [
    "Before we crack on with the rest of the course, try running the following code in a new cell:\n",
    "\n",
    "```python\n",
    "1 + '1'\n",
    "```\n",
    "\n",
    "You should find that you get an **error message**:\n",
    "\n",
    "![error](images/error.png)\n",
    "\n",
    "Python, and for that matter all programming languages, use error messages to highlight **problems** in your code. In this case, don't worry about what the message means - we will come back to **errors** in much more detail later on - just be aware that this is what they look like and that if you see one, you don't need to panic!\n",
    "\n",
    "---\n",
    "\n",
    "Okay, that about does it for getting started with running Python in Jupyter notebooks. There is quite a lot of useful functionality in notebooks that we have glossed over here, so feel free to give our more verbose [guide](../resources/the_notebook_interface.md) a quick skim read now, and refer back to this in future when needed."
   ]
  }
 ],
 "metadata": {
  "kernelspec": {
   "display_name": "fbase",
   "language": "python",
   "name": "python3"
  },
  "language_info": {
   "codemirror_mode": {
    "name": "ipython",
    "version": 3
   },
   "file_extension": ".py",
   "mimetype": "text/x-python",
   "name": "python",
   "nbconvert_exporter": "python",
   "pygments_lexer": "ipython3",
   "version": "3.12.4"
  }
 },
 "nbformat": 4,
 "nbformat_minor": 5
}
