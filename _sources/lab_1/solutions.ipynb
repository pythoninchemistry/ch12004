{
 "cells": [
  {
   "cell_type": "markdown",
   "id": "b8cc91d6-765c-41c7-b9e6-6ac0626dcc62",
   "metadata": {},
   "source": [
    "# Solutions"
   ]
  },
  {
   "cell_type": "markdown",
   "id": "8e340d07-440a-4497-a0ac-351848869285",
   "metadata": {},
   "source": [
    "**1.** Calculate the energy of a photon (in **Joules**) with frequency $2.18 \\times 10^{10}\\,\\mathrm{GHz}$ according to:\n",
    "\n",
    "$$E = h\\nu,$$\n",
    "\n",
    "where $\\nu$ is the frequency and $h$ is Planck's constant."
   ]
  },
  {
   "cell_type": "code",
   "execution_count": 2,
   "id": "7b04dd48-bdb7-4da5-94fb-24d0cf876ea9",
   "metadata": {},
   "outputs": [
    {
     "name": "stdout",
     "output_type": "stream",
     "text": [
      "The energy of the photon is 1.4444832927e-17 J.\n"
     ]
    }
   ],
   "source": [
    "import scipy\n",
    "\n",
    "v = 2.18e10 # GHz\n",
    "v *= 1e6 # Convert to Hz\n",
    "\n",
    "E = scipy.constants.h * v\n",
    "\n",
    "print(f'The energy of the photon is {E} J.')"
   ]
  },
  {
   "cell_type": "markdown",
   "id": "6cdff778-bee0-42c3-a2da-9c339e1af6e9",
   "metadata": {},
   "source": [
    "**2.** Calculate the wavelengths (in **nanometres**) corresponding to the first line in the Lyman, Balmer and Paschen series. You will need the following relation:\n",
    "\n",
    "$$\\frac{1}{\\lambda} = R_{\\mathrm{H}}\\left[\\frac{1}{n^{2}_{1}} - \\frac{1}{n^{2}_{2}}\\right],$$\n",
    "\n",
    "where $\\lambda$ is the wavelength, $R_{\\mathrm{H}}$ is the Rydberg constant and $n_{2}$ is the principal quantum number of the excited state. $n_{1} = 1$ for the Lyman series, $2$ for the Balmer series and $3$ for the Paschen series."
   ]
  },
  {
   "cell_type": "code",
   "execution_count": 2,
   "id": "65b8c8b1-9144-4f88-8e5c-5317a5c4ebe0",
   "metadata": {},
   "outputs": [
    {
     "name": "stdout",
     "output_type": "stream",
     "text": [
      "The first line of the Lyman series occurs at 121.5022734110182 nm.\n",
      "The first line of the Balmer series occurs at 656.1122764194981 nm.\n",
      "The first line of the Paschen series occurs at 1874.6065040557094 nm.\n"
     ]
    }
   ],
   "source": [
    "n_1 = 1\n",
    "n_2 = 2\n",
    "\n",
    "wavelength = 1 / (scipy.constants.Rydberg * (1 / n_1 ** 2 - 1 / n_2 ** 2))\n",
    "wavelength *= 10 ** 9 # Convert to nm\n",
    "\n",
    "print(f'The first line of the Lyman series occurs at {wavelength} nm.')\n",
    "\n",
    "n_1 = 2\n",
    "n_2 = 3\n",
    "\n",
    "wavelength = 1 / (scipy.constants.Rydberg * (1 / n_1 ** 2 - 1 / n_2 ** 2))\n",
    "wavelength *= 10 ** 9 # Convert to nm\n",
    "\n",
    "print(f'The first line of the Balmer series occurs at {wavelength} nm.')\n",
    "\n",
    "n_1 = 3\n",
    "n_2 = 4\n",
    "\n",
    "wavelength = 1 / (scipy.constants.Rydberg * (1 / n_1 ** 2 - 1 / n_2 ** 2))\n",
    "wavelength *= 10 ** 9 # Convert to nm\n",
    "\n",
    "print(f'The first line of the Paschen series occurs at {wavelength} nm.')"
   ]
  },
  {
   "cell_type": "markdown",
   "id": "2e6aeeab-bf78-4a83-9d5b-067208948293",
   "metadata": {},
   "source": [
    "**3.** Consider the following blocks of code. Each one of them will cause an error when run. Taking each block one-by-one:\n",
    "- Predict which line of code will cause the error and why this line is problematic.\n",
    "- Run the block of code in a Jupyter notebook and see whether or not you were correct.\n",
    "- Modify the code to solve the problem and thus remove the error.\n",
    "\n",
    "Block 1:\n",
    "```python\n",
    "a = 32\n",
    "b = '64'\n",
    "\n",
    "print(a + b)\n",
    "```"
   ]
  },
  {
   "cell_type": "code",
   "execution_count": 3,
   "id": "1524bb43-d89d-4370-83d8-211ebed5788c",
   "metadata": {},
   "outputs": [
    {
     "name": "stdout",
     "output_type": "stream",
     "text": [
      "96\n"
     ]
    }
   ],
   "source": [
    "a = 32\n",
    "b = 64\n",
    "\n",
    "print(a + b)"
   ]
  },
  {
   "cell_type": "markdown",
   "id": "6afc5336-6925-4618-af89-417fe6548ecf",
   "metadata": {},
   "source": [
    "Block 2:\n",
    "```python\n",
    "string_variable = 'Python is pretty cool! '\n",
    "repeat = 4.0\n",
    "\n",
    "print(string_variable * repeat)\n",
    "```"
   ]
  },
  {
   "cell_type": "code",
   "execution_count": 4,
   "id": "6f86af45-7f59-4951-9cf0-0b7329ef43a3",
   "metadata": {},
   "outputs": [
    {
     "name": "stdout",
     "output_type": "stream",
     "text": [
      "Python is pretty cool! Python is pretty cool! Python is pretty cool! Python is pretty cool! \n"
     ]
    }
   ],
   "source": [
    "string_variable = 'Python is pretty cool! '\n",
    "repeat = 4\n",
    "\n",
    "print(string_variable * repeat)"
   ]
  },
  {
   "cell_type": "markdown",
   "id": "059a4b82-d2cb-49d9-91bd-2252cae2bbd1",
   "metadata": {},
   "source": [
    "Block 3:\n",
    "This code uses the following expression for the root mean square speed of a molecule:\n",
    "\n",
    "$$\\sqrt{\\frac{3RT}{M}},$$\n",
    "\n",
    "where $R$ is the gas constant, $T$ is the temperature and $M$ is the molar mass.\n",
    "\n",
    "```{note}\n",
    "This block also contains a problem which, whilst it **will not cause an error**, will lead to the wrong result being calculated. See if you can spot and fix this problem in addition to removing the error.\n",
    "```\n",
    "\n",
    "```python\n",
    "import math\n",
    "import scipy\n",
    "\n",
    "# You do not have to include the imports above if you have already imported math and scipy in your notebook.\n",
    "\n",
    "temperature = 500\n",
    "molar_mass = 31.998 / 1000 # molar mass of oxygen in kgmol-1\n",
    "\n",
    "# Calculate the root mean square speed of an oxygen molecule at 500 K\n",
    "rms_speed = math.sqrt{3 * scipy.constants.R * temperature / molar_mass}\n",
    "\n",
    "print(f'The root mean square speed of an O2 molecule at 500 K is {rms_speed} ms-1.')\n",
    "```"
   ]
  },
  {
   "cell_type": "code",
   "execution_count": 5,
   "id": "c594dcdf-9482-473e-8136-9892ab7d8043",
   "metadata": {},
   "outputs": [
    {
     "name": "stdout",
     "output_type": "stream",
     "text": [
      "The root mean square speed of an O2 molecule at 500 K is 624.3114571475151 ms-1.\n"
     ]
    }
   ],
   "source": [
    "import math\n",
    "import scipy\n",
    "\n",
    "# You do not have to include the imports above if you have already imported math and scipy in your notebook.\n",
    "\n",
    "temperature = 500\n",
    "molar_mass = 31.998 / 1000\n",
    "\n",
    "# Calculate the root mean square speed of an oxygen molecule at 500 K\n",
    "rms_speed = math.sqrt((3 * scipy.constants.R * temperature) / molar_mass)\n",
    "\n",
    "print(f'The root mean square speed of an O2 molecule at 500 K is {rms_speed} ms-1.')"
   ]
  },
  {
   "cell_type": "markdown",
   "id": "d7d07e8b-a1e7-4875-8fd0-ca28b45554dd",
   "metadata": {},
   "source": [
    "Block 4:\n",
    "This code is trying to solve the following equation,\n",
    "\n",
    "$$5x^{2} + 12x + 7,$$\n",
    "\n",
    "using the quadratic formula:\n",
    "\n",
    "$$\\frac{-b \\pm \\sqrt{b^{2} - 4ac}}{2a}.$$\n",
    "\n",
    "```python\n",
    "print = 'This code calculates the solutions to 5x^2 + 12x + 7'\n",
    "\n",
    "a = 5\n",
    "b = 12\n",
    "c = 7\n",
    "\n",
    "solution_1 = (-b + math.sqrt(b ** 2 - 4 * a * c)) / (2 * a)\n",
    "solution_2 = (-b - math.sqrt(b ** 2 - 4 * a * c)) / (2 * a)\n",
    "\n",
    "print(f'The solutions are {solution_1} and {solution_2}')\n",
    "```"
   ]
  },
  {
   "cell_type": "code",
   "execution_count": 6,
   "id": "44da37f0-a4e5-4aac-81e9-2d8a772d2ff7",
   "metadata": {},
   "outputs": [
    {
     "name": "stdout",
     "output_type": "stream",
     "text": [
      "This code calculates the solutions to 5x^2 + 12x + 7\n",
      "The solutions are -1.0 and -1.4\n"
     ]
    }
   ],
   "source": [
    "print('This code calculates the solutions to 5x^2 + 12x + 7')\n",
    "\n",
    "a = 5\n",
    "b = 12\n",
    "c = 7\n",
    "\n",
    "solution_1 = (-b + math.sqrt(b ** 2 - 4 * a * c)) / (2 * a)\n",
    "solution_2 = (-b - math.sqrt(b ** 2 - 4 * a * c)) / (2 * a)\n",
    "\n",
    "print(f'The solutions are {solution_1} and {solution_2}')"
   ]
  }
 ],
 "metadata": {
  "kernelspec": {
   "display_name": "fbase",
   "language": "python",
   "name": "python3"
  },
  "language_info": {
   "codemirror_mode": {
    "name": "ipython",
    "version": 3
   },
   "file_extension": ".py",
   "mimetype": "text/x-python",
   "name": "python",
   "nbconvert_exporter": "python",
   "pygments_lexer": "ipython3",
   "version": "3.12.4"
  }
 },
 "nbformat": 4,
 "nbformat_minor": 5
}
