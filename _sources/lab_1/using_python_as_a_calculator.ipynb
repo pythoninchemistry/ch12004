{
 "cells": [
  {
   "cell_type": "markdown",
   "id": "24f7f2d7-14d0-4f80-8067-c11007c32003",
   "metadata": {},
   "source": [
    "# Using Python as a calculator"
   ]
  },
  {
   "cell_type": "markdown",
   "id": "39cd4ff8-7099-4dd3-b05a-2e9cd54c6fe0",
   "metadata": {},
   "source": [
    "Our eventual goal is to cover all of the programming basics, with a particular focus on **data analysis**. We're going to start by coding up some basic mathematics, essentially learning how to **use Python as a calculator**.\n",
    "\n",
    "```{important}\n",
    "**Before you read on:** as you work through this course book, you may be sorely tempted to copy and paste the relevant examples rather than typing out everything from scratch. **We strongly discourage you from doing this.** \n",
    "\n",
    "As we will discuss later in more detail, you'd be amazed how little time you spend as a programmer **writing** code. Often, you will be spending much more time **fixing** code that you have already written. This is why we recommend that, for the most part, you **avoid copy and pasting code snippets** during this course.\n",
    "\n",
    "Instead of copy and pasting, we recommend that you **type out the examples from scratch** and regularly **modify/mess with them** to really test your understanding at each stage.\n",
    "```"
   ]
  },
  {
   "cell_type": "markdown",
   "id": "8b9a679e-800e-4e80-9cd7-abfbcd64c67d",
   "metadata": {
    "tags": [
     "remove-cell"
    ]
   },
   "source": [
    "$\\require{mhchem}$"
   ]
  },
  {
   "cell_type": "markdown",
   "id": "1af76b43-f4dd-46c9-98e5-378dd8a01682",
   "metadata": {},
   "source": [
    "## Basic mathematical operations"
   ]
  },
  {
   "cell_type": "markdown",
   "id": "0a22076f-ed92-452b-9a60-b23402c0875d",
   "metadata": {},
   "source": [
    "Simple arithmetic operations such as addition and subtraction are written in Python much like we would write them on pen and paper. For example, we can compute the sum of two numbers as:"
   ]
  },
  {
   "cell_type": "code",
   "execution_count": 1,
   "id": "a2a2aa9c-98e9-4a27-a606-0ad93437f8a4",
   "metadata": {},
   "outputs": [
    {
     "data": {
      "text/plain": [
       "4"
      ]
     },
     "execution_count": 1,
     "metadata": {},
     "output_type": "execute_result"
    }
   ],
   "source": [
    "2+2"
   ]
  },
  {
   "cell_type": "markdown",
   "id": "25f0c7ab-f0e8-4e66-8f4b-bb9339293e73",
   "metadata": {},
   "source": [
    "Python allows spaces between the numbers and the addition operator, so it is usually more readable to type this as:\n",
    "```python\n",
    "2 + 2\n",
    "```\n",
    "Subtraction, multiplication and division are all written in a similar manner, with a different symbol used to denote the operator in each case.\n",
    "\n",
    "**Subtraction**:\n",
    "```python\n",
    "4 - 2\n",
    "```\n",
    "**Multiplication**:\n",
    "```python\n",
    "5 * 5\n",
    "```\n",
    "**Division**:\n",
    "```python\n",
    "36 / 6\n",
    "```\n",
    "\n",
    "We can also raise one number to the power of another by sticking two multiplication operators together. For example, to calculate $3^{2}$:\n",
    "```python\n",
    "3 ** 2\n",
    "```\n",
    "\n",
    "Whilst all of the examples above use integers, Python is also perfectly capable of performing these operations on **floats** (numbers with a decimal point):\n",
    "```python\n",
    "3.52 * 6.28\n",
    "```\n",
    "\n",
    "Similarly, Python also allows us to use **standard form**. For example, to evaluate $6.8 \\times 10^{3} + 2.7 \\times 10^{-2}$:\n",
    "```python\n",
    "6.8e3 + 2.7e-2\n",
    "```\n",
    "\n",
    "---\n",
    "\n",
    "In addition to the basic mathematical operations outlined above, Python also supports **integer division**: division followed by rounding down to the nearest integer. In other words, we can calculate how many times one number goes into another, ignoring the remainder:"
   ]
  },
  {
   "cell_type": "code",
   "execution_count": 2,
   "id": "2dd494fc-eb97-458c-82c5-811b5175afd6",
   "metadata": {},
   "outputs": [
    {
     "data": {
      "text/plain": [
       "3"
      ]
     },
     "execution_count": 2,
     "metadata": {},
     "output_type": "execute_result"
    }
   ],
   "source": [
    "13 // 4"
   ]
  },
  {
   "cell_type": "markdown",
   "id": "595db5a5-c495-4ef6-8070-5710aecf82d5",
   "metadata": {},
   "source": [
    "Sometimes we want to explicitly calculate the **remainder**, this can be accomplished with the \"**modulo**\" operator. Using the same example as above:"
   ]
  },
  {
   "cell_type": "code",
   "execution_count": 3,
   "id": "787d21a1-3ad8-4806-a8f1-a306fe523cad",
   "metadata": {},
   "outputs": [
    {
     "data": {
      "text/plain": [
       "1"
      ]
     },
     "execution_count": 3,
     "metadata": {},
     "output_type": "execute_result"
    }
   ],
   "source": [
    "13 % 4"
   ]
  },
  {
   "cell_type": "markdown",
   "id": "7e9a7680-0fe2-4b37-9285-a9b3f46e8a7b",
   "metadata": {},
   "source": [
    "## Order of operations"
   ]
  },
  {
   "cell_type": "markdown",
   "id": "02f4ebb8-4a22-4fd7-a4a5-91e1a109e729",
   "metadata": {},
   "source": [
    "So far, we have only considered expressions containing one mathematical operation. More often than not, we are interested in mathematical expressions containing several operations - the **order** in which these operations are carried out is therefore very important. Thankfully, Python's order of operations is exactly the same as is considered standard mathematical procedure: B(rackets), I(ndices), D(ivision), M(ultiplication), A(ddition), S(ubtraction) or **BIDMAS**.\n",
    "\n",
    "For an illustrative example, consider the expression:\n",
    "\n",
    "$$\\frac{3 + 7}{5}.$$\n",
    "\n",
    "Written as is in Python, we get:"
   ]
  },
  {
   "cell_type": "code",
   "execution_count": 4,
   "id": "824fadc5-05fd-4386-9a13-d98d17e62a95",
   "metadata": {},
   "outputs": [
    {
     "data": {
      "text/plain": [
       "4.4"
      ]
     },
     "execution_count": 4,
     "metadata": {},
     "output_type": "execute_result"
    }
   ],
   "source": [
    "3 + 7 / 5"
   ]
  },
  {
   "cell_type": "markdown",
   "id": "f4097204-490c-49d5-a2fc-3f3214e33dcd",
   "metadata": {},
   "source": [
    "Python does the division before the addition as per BIDMAS order. To get the intended result, we insert **brackets**:"
   ]
  },
  {
   "cell_type": "code",
   "execution_count": 5,
   "id": "7d88f062-43c4-407b-9528-aff844345cbe",
   "metadata": {},
   "outputs": [
    {
     "data": {
      "text/plain": [
       "2.0"
      ]
     },
     "execution_count": 5,
     "metadata": {},
     "output_type": "execute_result"
    }
   ],
   "source": [
    "(3 + 7) / 5"
   ]
  },
  {
   "cell_type": "markdown",
   "id": "1e2d9cdc-9f85-490e-a25d-d6816739bcf5",
   "metadata": {},
   "source": [
    "```{note}\n",
    "This example is intentionally trivial, so that the order of operations is extremely clear, but the same principle applies to much more difficult calculations that cannot be easily verified in our heads.\n",
    "```"
   ]
  },
  {
   "cell_type": "markdown",
   "id": "e654d11b-2ec3-482b-a34a-a142b950765a",
   "metadata": {},
   "source": [
    "## More complex mathematical operations"
   ]
  },
  {
   "cell_type": "markdown",
   "id": "74698937-7296-4f51-9a86-b63fc82a0617",
   "metadata": {},
   "source": [
    "In addition to the basic mathematical objects we have introduced thus far, Python also allows us to evalute other common mathematical operations such as trigonometric functions. This functionality is contained in the `math` library, which must be imported before use:"
   ]
  },
  {
   "cell_type": "code",
   "execution_count": 6,
   "id": "0c5f1e6d-f996-40ff-82a5-51eb291bf03a",
   "metadata": {},
   "outputs": [],
   "source": [
    "import math"
   ]
  },
  {
   "cell_type": "markdown",
   "id": "8e702e4a-96ae-402a-bc36-9a17186afced",
   "metadata": {},
   "source": [
    "After running the `import` statement above, we can calculate the `sin` of a number as:"
   ]
  },
  {
   "cell_type": "code",
   "execution_count": 7,
   "id": "5d517500-299a-4b53-9deb-0d7a2a154ccc",
   "metadata": {},
   "outputs": [
    {
     "data": {
      "text/plain": [
       "0.9092974268256817"
      ]
     },
     "execution_count": 7,
     "metadata": {},
     "output_type": "execute_result"
    }
   ],
   "source": [
    "math.sin(2)"
   ]
  },
  {
   "cell_type": "markdown",
   "id": "95f60a1c-4b0c-4b24-b49a-6cf3112882e8",
   "metadata": {},
   "source": [
    "`math.sin` is an example of a **function**. To use a function in Python - otherwise referred to as \"**calling**\" the function - we type the name of the function followed by a set of brackets in which we supply the relevant inputs. In the example above, `math.sin` is the name of the function and we put the number 2 in a set of brackets: this indicates that we want to calculate the `sin` of 2.\n",
    "\n",
    "```{warning}\n",
    "The trigonometric functions in the `math` library (and other Python libraries) expect the inputs to be in **radians**, not degrees.\n",
    "```\n",
    "\n",
    "The other trigonometric functions in the `math` library are similarly intuitively named: `math.cos`, `math.tan` etc. These can all be accessed in the same way as the `math.sin` function; this process can be generically written as:\n",
    "\n",
    "```python\n",
    "name_of_function(input_to_function)\n",
    "```\n",
    "\n",
    "So to take the cosine of a number, we would type:"
   ]
  },
  {
   "cell_type": "code",
   "execution_count": 8,
   "id": "365e811a-a93c-42cd-bef6-7515fcd6a29d",
   "metadata": {},
   "outputs": [
    {
     "data": {
      "text/plain": [
       "-0.7596879128588213"
      ]
     },
     "execution_count": 8,
     "metadata": {},
     "output_type": "execute_result"
    }
   ],
   "source": [
    "math.cos(15)"
   ]
  },
  {
   "cell_type": "markdown",
   "id": "bf01318b-7d80-4d5b-9279-8b126addcbf2",
   "metadata": {},
   "source": [
    "Given that we're dealing with radians, it would be nice if we had access to the value of $\\pi$. Thankfully, the `math` library provides us with a constant for this under the name `math.pi`."
   ]
  },
  {
   "cell_type": "code",
   "execution_count": 9,
   "id": "1c2a23f3-a965-4d97-a488-306357e2dde1",
   "metadata": {},
   "outputs": [
    {
     "data": {
      "text/plain": [
       "3.141592653589793"
      ]
     },
     "execution_count": 9,
     "metadata": {},
     "output_type": "execute_result"
    }
   ],
   "source": [
    "math.pi"
   ]
  },
  {
   "cell_type": "code",
   "execution_count": 10,
   "id": "fd6c43b8-290e-4109-8b6f-21acc13f390d",
   "metadata": {},
   "outputs": [
    {
     "data": {
      "text/plain": [
       "1.0"
      ]
     },
     "execution_count": 10,
     "metadata": {},
     "output_type": "execute_result"
    }
   ],
   "source": [
    "math.sin(math.pi / 2)"
   ]
  },
  {
   "cell_type": "markdown",
   "id": "3385f865-5ba3-43c3-a04d-c8a74bf5b47f",
   "metadata": {},
   "source": [
    "The `math` library also provides us with various other mathematical functions:\n",
    "\n",
    "Taking the **square root**:\n",
    "```python\n",
    "math.sqrt(4)\n",
    "```\n",
    "\n",
    "Taking the **logarithm**:\n",
    "```python\n",
    "math.log(12)\n",
    "```\n",
    "\n",
    "```{warning}\n",
    "The `math.log` function (and the equivalent functions in other Python libraries) takes the **natural** log of a number: $\\ln(x)$. To calculate a logarithm to base $10$, you can use the `math.log10` function.\n",
    "```\n",
    "\n",
    "Computing an **exponential**:\n",
    "```python\n",
    "math.exp(2)\n",
    "```"
   ]
  },
  {
   "cell_type": "markdown",
   "id": "d38c3c0e-5db0-4372-90db-c76dd97933ea",
   "metadata": {},
   "source": [
    "### Exercise"
   ]
  },
  {
   "cell_type": "markdown",
   "id": "f30c33e6-d62c-41bb-9224-4edf9564c011",
   "metadata": {},
   "source": [
    "The Haber-Bosch process is the main reaction used in industry to produce ammonia:\n",
    "\n",
    "$$\\ce{N2} + 3\\ce{H2} \\rightarrow 2\\ce{NH3}.$$\n",
    "\n",
    "At $298\\,\\mathrm{K}$ under atmospheric pressure, the equilibrium partial pressures of nitrogen, hydrogen and ammonia are $1.00\\,\\mathrm{bar}$, $3.00\\,\\mathrm{bar}$ and $3.82 \\times 10^{-2}\\,\\mathrm{bar}$ respectively.\n",
    "\n",
    "- Calculate the equilibrium constant for this reaction using Python.\n",
    "- Using your calculated equilibrium constant, compute the change in the Gibbs free energy for the Haber-Bosch process at $298\\,\\mathrm{K}$ with Python. You will need the relation below.\n",
    "\n",
    "$$\\Delta G= -RT\\ln K$$\n",
    "\n",
    "```{tip}\n",
    "You may wish to approximate the gas constant as $8.314\\,\\mathrm{J \\, mol^{-1} \\, K^{-1}}$, but a better alternative is to access a more accurate value directly using the code below. This will ensure that you avoid unnecessary rounding errors.\n",
    "```"
   ]
  },
  {
   "cell_type": "code",
   "execution_count": 11,
   "id": "a41c11ca-5015-4866-bbb1-9393370d6b70",
   "metadata": {},
   "outputs": [],
   "source": [
    "import scipy"
   ]
  },
  {
   "cell_type": "code",
   "execution_count": 12,
   "id": "d65582d3-8bdf-4621-badf-9dd94855d9e8",
   "metadata": {},
   "outputs": [
    {
     "data": {
      "text/plain": [
       "8.314462618"
      ]
     },
     "execution_count": 12,
     "metadata": {},
     "output_type": "execute_result"
    }
   ],
   "source": [
    "scipy.constants.R"
   ]
  },
  {
   "cell_type": "markdown",
   "id": "28a7c850-095e-4aea-bfbc-975fb58bdb8f",
   "metadata": {},
   "source": [
    "**Answers**\n",
    "```{toggle}\n",
    "$$K = 5.40 \\times 10^{-5}$$\n",
    "\n",
    "$$\\Delta G = 24.3\\,\\mathrm{kJ\\, mol^{-1}}$$\n",
    "```"
   ]
  }
 ],
 "metadata": {
  "kernelspec": {
   "display_name": "Python 3 (ipykernel)",
   "language": "python",
   "name": "python3"
  },
  "language_info": {
   "codemirror_mode": {
    "name": "ipython",
    "version": 3
   },
   "file_extension": ".py",
   "mimetype": "text/x-python",
   "name": "python",
   "nbconvert_exporter": "python",
   "pygments_lexer": "ipython3",
   "version": "3.12.0"
  }
 },
 "nbformat": 4,
 "nbformat_minor": 5
}
