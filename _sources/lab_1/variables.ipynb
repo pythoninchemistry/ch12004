{
 "cells": [
  {
   "cell_type": "markdown",
   "id": "0b344ac4-27f7-4a2e-9a52-3dc0c256e03d",
   "metadata": {},
   "source": [
    "# Variables"
   ]
  },
  {
   "cell_type": "markdown",
   "id": "f371133d-c210-44c0-b236-774f4afc6194",
   "metadata": {
    "tags": [
     "remove-cell"
    ]
   },
   "source": [
    "$\\require{mhchem}$"
   ]
  },
  {
   "cell_type": "markdown",
   "id": "00373670-b2ce-4713-997a-1fb1ffb5d33b",
   "metadata": {},
   "source": [
    "## What are variables?"
   ]
  },
  {
   "cell_type": "markdown",
   "id": "baf6fe0e-03ab-4b75-92dc-d52427ab679c",
   "metadata": {},
   "source": [
    "So far we have been using Python as a calculator. We supply inputs in the form of numbers and use basic mathematical operations and functions to derive a result (another number). This works perfectly well if the calculation we want to do is relatively simple, the process is very similar to how we would use a literal calculator. On the other hand, as the calculations we want to do become more complicated, it becomes somewhat laborious (and eventually impractical) to use Python in this way.\n",
    "\n",
    "**Variables** are Python objects which contain data. That may sound exceedingly vague, so here is a minimal working example:"
   ]
  },
  {
   "cell_type": "code",
   "execution_count": 5,
   "id": "4939d01b-8a39-489f-a072-36e94e8078fa",
   "metadata": {},
   "outputs": [],
   "source": [
    "example_variable = 5"
   ]
  },
  {
   "cell_type": "code",
   "execution_count": 6,
   "id": "59e4f1ed-c70f-4516-a0e5-e928a6cc2f12",
   "metadata": {},
   "outputs": [
    {
     "data": {
      "text/plain": [
       "5"
      ]
     },
     "execution_count": 6,
     "metadata": {},
     "output_type": "execute_result"
    }
   ],
   "source": [
    "example_variable"
   ]
  },
  {
   "cell_type": "markdown",
   "id": "74052747-0832-4b52-a656-d85bcebf8c37",
   "metadata": {},
   "source": [
    "The first line of code above **assigns** the value of $5$ to the variable `example_variable`. We are essentially telling Python:\n",
    "\n",
    "\"Hello friend, I would like you to store the value $5$ under the name `example_variable`, cheers!\"\n",
    "\n",
    "The second line of code is simply the name of our new variable: `example_variable`. Running this line of code returns the value $5$, confirming that we have indeed stored this value under a new name.\n",
    "\n",
    "```{note}\n",
    "For the most part, you can choose any name you would like for a given variable. Above we used `example_variable`, but we could just as easily have used `variable_1`, `v1` or `arbitrary_name` - it doesn't (functionally) matter. That being said, there are rules governing possible variable names:\n",
    "- They must start with a letter or an underscore i.e. they **cannot** start with a number.\n",
    "- They are case-sensitive: `v1` is not the same variable as `V1`.\n",
    "- If they consist of multiple words, these must be separated by underscores **not** hyphens.\n",
    "- They cannot be the same as certain **reserved keywords**. We will meet some of these keywords later.\n",
    "```"
   ]
  },
  {
   "cell_type": "markdown",
   "id": "a29180c8-634c-4f34-bf59-d3ad9cf64c11",
   "metadata": {},
   "source": [
    "## How can we use variables?"
   ]
  },
  {
   "cell_type": "markdown",
   "id": "4c49e9cf-2910-410d-be9d-b8afea62b93a",
   "metadata": {},
   "source": [
    "Okay great so we can store a number under a new name - so what? Well let's take the exercise from the [Using Python as a calculator](using_python_as_a_calculator.ipynb) section. We were given the equilibrium partial pressures of the reactants and products:\n",
    "\n",
    "$$p_{\\ce{N2}} = 1.00\\,\\mathrm{bar}$$\n",
    "\n",
    "$$p_{\\ce{H2}} = 3.00\\,\\mathrm{bar}$$\n",
    "\n",
    "$$p_{\\ce{NH3}} = 3.82 \\times 10^{-2}\\,\\mathrm{bar}$$\n",
    "\n",
    "Let's assign all of these values to some new **variables**:"
   ]
  },
  {
   "cell_type": "code",
   "execution_count": 7,
   "id": "484c46ab-d1a8-4156-b11c-368de8cad245",
   "metadata": {},
   "outputs": [],
   "source": [
    "p_N2 = 1.00\n",
    "p_H2 = 3.00\n",
    "p_NH3 = 3.82e-2"
   ]
  },
  {
   "cell_type": "markdown",
   "id": "5b2d284c-5198-491d-a73f-6eaf325dade7",
   "metadata": {},
   "source": [
    "Rather than calculating the equilibrium constant by plugging in the numbers, we can now use our new variables:"
   ]
  },
  {
   "cell_type": "code",
   "execution_count": 8,
   "id": "25898b51-e6b3-415e-8f7d-d28647bd97c4",
   "metadata": {},
   "outputs": [
    {
     "data": {
      "text/plain": [
       "5.404592592592592e-05"
      ]
     },
     "execution_count": 8,
     "metadata": {},
     "output_type": "execute_result"
    }
   ],
   "source": [
    "p_NH3 ** 2 / (p_N2 * p_H2 ** 3)"
   ]
  },
  {
   "cell_type": "markdown",
   "id": "9982f1d0-88fa-40cf-9412-94436a6e6f40",
   "metadata": {},
   "source": [
    "Or, even better, why don't we store the result in another new variable:"
   ]
  },
  {
   "cell_type": "code",
   "execution_count": 9,
   "id": "0a0b94a9-c949-4c89-afa5-310d58907fd9",
   "metadata": {},
   "outputs": [],
   "source": [
    "K = p_NH3 ** 2 / (p_N2 * p_H2 ** 3)"
   ]
  },
  {
   "cell_type": "markdown",
   "id": "21d9cd31-c48b-4495-9a14-7cd10606b443",
   "metadata": {},
   "source": [
    "Okay great, we've calculated the equilibrium constant! But wait, why has Python not displayed the result beneath our previous line of code? This example highlights something that we have hitherto ignored, which is how Jupyter decides what to print to the screen."
   ]
  },
  {
   "cell_type": "markdown",
   "id": "9ada666c-eb3f-4cf7-a20d-676d6e8f8d2e",
   "metadata": {},
   "source": [
    "```{tip}\n",
    "Jupyter only displays the value corresponding to the last line of code in the cell. If the last line is a variable assignment, like our example above, then nothing is printed to the screen. If we want to display the value stored in a variable, we can either explicitly evaluate it (example shown below) or use the `print` function.\n",
    "```"
   ]
  },
  {
   "cell_type": "code",
   "execution_count": 10,
   "id": "6475bf2b-503f-486c-8179-63658298fa69",
   "metadata": {},
   "outputs": [
    {
     "data": {
      "text/plain": [
       "5.404592592592592e-05"
      ]
     },
     "execution_count": 10,
     "metadata": {},
     "output_type": "execute_result"
    }
   ],
   "source": [
    "K = p_NH3 ** 2 / (p_N2 * p_H2 ** 3)\n",
    "K"
   ]
  },
  {
   "cell_type": "markdown",
   "id": "a32b947f-6755-47c8-8bf7-f6e09a5092f9",
   "metadata": {},
   "source": [
    "Aha, we have recovered our equilibrium constant! But this method still only allows us to display one value for each block of code, what if there are multiple values we want to see? To explicitly control what is printed to the screen, we can use the in-built `print` function:"
   ]
  },
  {
   "cell_type": "code",
   "execution_count": 11,
   "id": "6e5ea639-a14d-46e9-ae29-ff4abdcea8af",
   "metadata": {},
   "outputs": [
    {
     "name": "stdout",
     "output_type": "stream",
     "text": [
      "5.404592592592592e-05\n"
     ]
    }
   ],
   "source": [
    "print(K)"
   ]
  },
  {
   "cell_type": "markdown",
   "id": "f8b362b2-60b8-443a-9123-8c8580a975ec",
   "metadata": {},
   "source": [
    "This code may not seem much different to our previous solution, but notice that if we have multiple lines of code:"
   ]
  },
  {
   "cell_type": "code",
   "execution_count": 12,
   "id": "b7d4b970-63ef-457f-9c3e-967cd25a60f6",
   "metadata": {},
   "outputs": [
    {
     "name": "stdout",
     "output_type": "stream",
     "text": [
      "5.404592592592592e-05\n"
     ]
    },
    {
     "data": {
      "text/plain": [
       "25"
      ]
     },
     "execution_count": 12,
     "metadata": {},
     "output_type": "execute_result"
    }
   ],
   "source": [
    "print(K)\n",
    "5 * 5"
   ]
  },
  {
   "cell_type": "markdown",
   "id": "ea3bdd35-4dfb-43e6-96ec-a0121d135640",
   "metadata": {},
   "source": [
    "The `print` function allows us to see the value stored in `K` **even if it is not the last line of code**. The **syntax** (the way in which we write our code) of using the `print` function is just the same as the `math` library functions we used before: we type the name of the function (`print`) followed by a pair of brackets containing the relevant inputs (here the variable `K`).\n",
    "\n",
    "Right, back to the problem at hand. We have a value for the equilibrium constant, let's use this to calculate $\\Delta G$ at $298\\,\\mathrm{K}$. Just like before, we can assign the temperature to a variable:"
   ]
  },
  {
   "cell_type": "code",
   "execution_count": 13,
   "id": "cd823fb5-3dea-47dc-9a83-d84745e23f3f",
   "metadata": {
    "tags": [
     "remove-cell"
    ]
   },
   "outputs": [],
   "source": [
    "import math\n",
    "import scipy"
   ]
  },
  {
   "cell_type": "code",
   "execution_count": 14,
   "id": "de642673-e8a5-47e4-818a-1be40da62d48",
   "metadata": {},
   "outputs": [],
   "source": [
    "temperature = 298"
   ]
  },
  {
   "cell_type": "markdown",
   "id": "c4078ad6-db9b-45b5-a06f-4e82267467a9",
   "metadata": {},
   "source": [
    "Now we can calculate $\\Delta G$:"
   ]
  },
  {
   "cell_type": "code",
   "execution_count": 15,
   "id": "191a7854-841a-4327-8a98-7d960e8d3d9f",
   "metadata": {},
   "outputs": [
    {
     "name": "stdout",
     "output_type": "stream",
     "text": [
      "24345.175281081323\n"
     ]
    }
   ],
   "source": [
    "delta_G = -scipy.constants.R * temperature * math.log(K)\n",
    "print(delta_G)"
   ]
  },
  {
   "cell_type": "markdown",
   "id": "2eb2c0c7-3939-4948-98b2-9951f1252ba4",
   "metadata": {},
   "source": [
    "Here we have $\\Delta G$ in $\\mathrm{J \\, mol}^{-1}$, but perhaps we want to convert to $\\mathrm{kJ \\, mol}^{-1}$. Rather than recalculating from scratch, we can just modify the variable we already have:"
   ]
  },
  {
   "cell_type": "code",
   "execution_count": null,
   "id": "a2f0b0b9",
   "metadata": {},
   "outputs": [],
   "source": []
  },
  {
   "cell_type": "code",
   "execution_count": 16,
   "id": "55a8ce13-cad3-48fb-a30b-1e21c3d20702",
   "metadata": {},
   "outputs": [
    {
     "name": "stdout",
     "output_type": "stream",
     "text": [
      "24.345175281081325\n"
     ]
    }
   ],
   "source": [
    "delta_G = delta_G / 1000\n",
    "print(delta_G)"
   ]
  },
  {
   "cell_type": "markdown",
   "id": "4f1a1e49-6e35-4d43-a293-da55b876aef1",
   "metadata": {},
   "source": [
    "This codes highlights the fact that most objects in Python are **mutable**: they can be changed. It can be slightly confusing to read a line like:\n",
    "\n",
    "```python\n",
    "delta_G = delta_G / 1000\n",
    "```\n",
    "\n",
    "It is slightly easier to understand this by looking at the **right** side of the `=` operator first. We are calculating the result of dividing the value stored in `delta_G` by $1000$. All the left hand side is doing is **assigning** that new value to the same variable name we were using before. This can also be written in the more concise form:\n",
    "\n",
    "```python\n",
    "delta_G /= 1000\n",
    "```\n",
    "\n",
    "We've calculated $\\Delta G$ here at $298\\mathrm{\\,K}$, but with **variables** we can very easy redo the calculation for a **different temperature**. All we need to do is change the value stored in the `temperature` variable:"
   ]
  },
  {
   "cell_type": "code",
   "execution_count": 17,
   "id": "5b283a00-3a2b-4e2d-91e3-890bafdd94d6",
   "metadata": {},
   "outputs": [],
   "source": [
    "temperature = 500"
   ]
  },
  {
   "cell_type": "markdown",
   "id": "13c80871-4b33-4fed-9db9-3ea8947fb995",
   "metadata": {},
   "source": [
    "Now we can just **re-run the code we already wrote**:"
   ]
  },
  {
   "cell_type": "code",
   "execution_count": 18,
   "id": "9dc30dc5-5918-4a0b-8756-a2eb9e03adfa",
   "metadata": {},
   "outputs": [
    {
     "name": "stdout",
     "output_type": "stream",
     "text": [
      "40847.60953201564\n"
     ]
    }
   ],
   "source": [
    "delta_G = -scipy.constants.R * temperature * math.log(K)\n",
    "print(delta_G)"
   ]
  },
  {
   "cell_type": "markdown",
   "id": "8456d530-93a3-45a0-9a90-acb3a16691a4",
   "metadata": {},
   "source": [
    "And we now have $\\Delta G$ calculated at $500\\mathrm{\\,K}$ (under the admittedly faulty approximation that the equilibrium constant is not temperature dependent)!\n",
    "\n",
    "---\n",
    "\n",
    "Hopefully, you can now see how variables can be useful. They allow us to input our raw data **once** (in the example above, inputting the partial pressures and temperature) and then let Python do the rest for us programmatically."
   ]
  },
  {
   "cell_type": "markdown",
   "id": "aa77ce38-f6f8-4be4-b17b-e29ac1386442",
   "metadata": {},
   "source": [
    "### Exercise"
   ]
  },
  {
   "cell_type": "markdown",
   "id": "555b7b52-a8d5-4af2-b927-c4814de51cbf",
   "metadata": {},
   "source": [
    "At high temperatures and high pressures, graphite can be converted into diamond:\n",
    "\n",
    "$$\\ce{C}_{\\mathrm{Graphite}} \\rightarrow \\ce{C}_{\\mathrm{Diamond}}.$$\n",
    "\n",
    "Using the table below, calculate (for the reaction above at $298\\,\\mathrm{K}$):\n",
    "- The enthalpy change\n",
    "- The entropy change\n",
    "- The Gibbs free energy change\n",
    "\n",
    "Use **variables** to minimize the number of times you need to manually type out (or copy/paste) numbers into your code.\n",
    "\n",
    "|Allotrope|$\\Delta H^{\\circ}_{f}$ / kJ mol$^{-1}$|$S^{\\circ}$ / J mol$^{-1}$ K$^{-1}$|\n",
    "| --- | --- | --- |\n",
    "|Graphite|0|5.74|\n",
    "|Diamond|1.87|2.38|\n",
    "\n",
    "You will need the relation below.\n",
    "\n",
    "$$\\Delta G = \\Delta H - T\\Delta S$$\n",
    "\n",
    "**Answers**\n",
    "```{toggle}\n",
    "$$\\Delta H = 1.87\\,\\mathrm{kJmol^{-1}}$$\n",
    "\n",
    "$$\\Delta S = -3.36\\,\\mathrm{Jmol^{-1}K^{-1}}$$\n",
    "\n",
    "$$\\Delta G = 2.87\\,\\mathrm{kJmol^{-1}}$$\n",
    "```"
   ]
  },
  {
   "cell_type": "code",
   "execution_count": null,
   "id": "80e99eb6-7f0e-4566-a16c-a5ed6c79228a",
   "metadata": {},
   "outputs": [],
   "source": []
  }
 ],
 "metadata": {
  "kernelspec": {
   "display_name": "Python 3 (ipykernel)",
   "language": "python",
   "name": "python3"
  },
  "language_info": {
   "codemirror_mode": {
    "name": "ipython",
    "version": 3
   },
   "file_extension": ".py",
   "mimetype": "text/x-python",
   "name": "python",
   "nbconvert_exporter": "python",
   "pygments_lexer": "ipython3",
   "version": "3.12.0"
  }
 },
 "nbformat": 4,
 "nbformat_minor": 5
}
