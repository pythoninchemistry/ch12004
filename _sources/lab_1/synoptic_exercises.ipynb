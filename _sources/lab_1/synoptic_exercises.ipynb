{
 "cells": [
  {
   "cell_type": "markdown",
   "id": "b8cc91d6-765c-41c7-b9e6-6ac0626dcc62",
   "metadata": {},
   "source": [
    "# Synoptic exercises"
   ]
  },
  {
   "cell_type": "markdown",
   "id": "8e340d07-440a-4497-a0ac-351848869285",
   "metadata": {},
   "source": [
    "Congratulations, your Python journey has officially begun! Here are a few synoptic exercises to test your understanding, feel free to refer back to the previous material where it may be helpful.\n",
    "\n",
    "```{tip}\n",
    "Remember to use **variables** to minimise the amount of data you have to input manually. You will also find that using variables enables you to do the same calculation with **different inputs** in much less time than if you had to re-write the entire calculation from scratch.\n",
    "\n",
    "It may also be worth using `print` statements and f-strings where possible to clearly display the results you have calculated (and to improve the readability of your code).\n",
    "```\n",
    "\n",
    "**1.** Calculate the energy of a photon (in **Joules**) with frequency $2.18 \\times 10^{10}\\,$GHz according to:\n",
    "\n",
    "$$E = h\\nu,$$\n",
    "\n",
    "where $\\nu$ is the frequency and $h$ is Planck's constant. You can `import` Planck's constant from the `scipy` library:"
   ]
  },
  {
   "cell_type": "code",
   "execution_count": 3,
   "id": "ee758960-a20a-4853-b474-ccb3d04bdd16",
   "metadata": {},
   "outputs": [
    {
     "name": "stdout",
     "output_type": "stream",
     "text": [
      "6.62607015e-34\n"
     ]
    }
   ],
   "source": [
    "import scipy\n",
    "print(scipy.constants.h)"
   ]
  },
  {
   "cell_type": "markdown",
   "id": "6cdff778-bee0-42c3-a2da-9c339e1af6e9",
   "metadata": {},
   "source": [
    "**2.** Calculate the wavelengths (in **nanometres**) corresponding to the first line in the Lyman, Balmer and Paschen series. You will need the following relation:\n",
    "\n",
    "$$\\frac{1}{\\lambda} = R_{\\mathrm{H}}\\left[\\frac{1}{n^{2}_{1}} - \\frac{1}{n^{2}_{2}}\\right],$$\n",
    "\n",
    "where $\\lambda$ is the wavelength, $R_{\\mathrm{H}}$ is the Rydberg constant and $n_{2}$ is the principal quantum number of the excited state. $n_{1} = 1$ for the Lyman series, $2$ for the Balmer series and $3$ for the Paschen series. You may access the Rydberg constant with:"
   ]
  },
  {
   "cell_type": "code",
   "execution_count": 12,
   "id": "440434de-8d36-42d8-889a-ac3b60f6a16e",
   "metadata": {},
   "outputs": [
    {
     "data": {
      "text/plain": [
       "10973731.56816"
      ]
     },
     "execution_count": 12,
     "metadata": {},
     "output_type": "execute_result"
    }
   ],
   "source": [
    "scipy.constants.Rydberg"
   ]
  },
  {
   "cell_type": "markdown",
   "id": "2e6aeeab-bf78-4a83-9d5b-067208948293",
   "metadata": {},
   "source": [
    "**3.** Consider the following blocks of code. Each one of them will cause an error when run. Taking each block one-by-one:\n",
    "- Predict which line of code will cause the error and why this line is problematic.\n",
    "- Run the block of code in a Jupyter notebook and see whether or not you were correct.\n",
    "- Modify the code to solve the problem and thus remove the error.\n",
    "\n",
    "Block 1:\n",
    "```python\n",
    "a = 32\n",
    "b = '64'\n",
    "\n",
    "print(a + b)\n",
    "```\n",
    "\n",
    "Block 2:\n",
    "```python\n",
    "string_variable = 'Python is pretty cool! '\n",
    "repeat = 4.0\n",
    "\n",
    "print(string_variable * repeat)\n",
    "```\n",
    "\n",
    "Block 3:\n",
    "This code uses the following expression for the root mean square speed of a molecule:\n",
    "\n",
    "$$\\sqrt{\\frac{3RT}{M}},$$\n",
    "\n",
    "where $R$ is the gas constant, $T$ is the temperature and $M$ is the molar mass.\n",
    "\n",
    "```{note}\n",
    "This block also contains a problem which, whilst it **will not cause an error**, will lead to the wrong result being calculated. See if you can spot and fix this problem in addition to removing the error.\n",
    "```\n",
    "\n",
    "```python\n",
    "import math\n",
    "import scipy\n",
    "\n",
    "# You do not have to include the imports above if you have already imported math and scipy in your notebook.\n",
    "\n",
    "temperature = 500\n",
    "molar_mass = 31.998 / 1000 # molar mass of an oxygen molecule in kgmol-1\n",
    "\n",
    "# Calculate the root mean square speed of an oxygen molecule at 500 K\n",
    "rms_speed = math.sqrt{3 * scipy.constants.R * temperature / molar_mass}\n",
    "\n",
    "print(f'The root mean square speed of an O2 molecule at 500 K is {rms_speed} ms-1.')\n",
    "```\n",
    "\n",
    "Block 4:\n",
    "This code is trying to solve the following equation,\n",
    "\n",
    "$$5x^{2} + 12x + 7,$$\n",
    "\n",
    "using the quadratic formula:\n",
    "\n",
    "$$\\frac{-b \\pm \\sqrt{b^{2} - 4ac}}{2a}.$$\n",
    "\n",
    "```{note}\n",
    "This one is difficult if you are new to Python. See if you can figure out why the error occurs, then see the hidden solution below (the \"Click to show\" box) to learn how it can be fixed.\n",
    "```\n",
    "\n",
    "```python\n",
    "print = 'This code calculates the solutions to 5x^2 + 12x + 7'\n",
    "\n",
    "a = 5\n",
    "b = 12\n",
    "c = 7\n",
    "\n",
    "solution_1 = (-b + math.sqrt(b ** 2 - 4 * a * c)) / (2 * a)\n",
    "solution_2 = (-b - math.sqrt(b ** 2 - 4 * a * c)) / (2 * a)\n",
    "\n",
    "print(f'The solutions are {solution_1} and {solution_2}')\n",
    "```\n",
    "\n",
    "How to fix the error for code block 4:\n",
    "```{toggle}\n",
    "The problem here is that we have **redefined** the print function. The first line of block 4 assigns a string to the name `print`. This is perfectly valid Python, but the name `print` was **already in use**: it is the name of the `print` function. This means that when the final line runs, Python complains that you are treating a `str` (a string) like a **function**, as we have effectively replaced the `print` function with the string: 'This code calculates the solutions to 5x^2 + 12x + 7'.\n",
    "\n",
    "So if we have seem to have \"lost\" the print function, how do we get it back? We can do this by **restarting the kernel**. In your Jupyter notebook, navigate via the menu bar at the top to Kernel->Restart and Run All Cells. This will effectively clear Python's memory and re-run all of your code, meaning that `print` will once again refer to the **function** we want. Be sure to fix code block 4 before you do this (i.e. actually **call** the print function rather than assigning a variable to that name).\n",
    "```"
   ]
  },
  {
   "cell_type": "code",
   "execution_count": null,
   "id": "9ae9c7de-0b4d-43ca-b5fb-2484a0de255a",
   "metadata": {},
   "outputs": [],
   "source": []
  }
 ],
 "metadata": {
  "kernelspec": {
   "display_name": "Python 3 (ipykernel)",
   "language": "python",
   "name": "python3"
  },
  "language_info": {
   "codemirror_mode": {
    "name": "ipython",
    "version": 3
   },
   "file_extension": ".py",
   "mimetype": "text/x-python",
   "name": "python",
   "nbconvert_exporter": "python",
   "pygments_lexer": "ipython3",
   "version": "3.11.0"
  }
 },
 "nbformat": 4,
 "nbformat_minor": 5
}
