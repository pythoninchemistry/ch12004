{
 "cells": [
  {
   "cell_type": "markdown",
   "id": "dd5e1868-8888-49eb-904a-3447ec738df3",
   "metadata": {},
   "source": [
    "# Synoptic Exercises"
   ]
  },
  {
   "cell_type": "markdown",
   "id": "a0217fb2-a00c-4f5f-9655-2d083d962425",
   "metadata": {},
   "source": [
    "Okay folks, time to get *loopy*.\n",
    "\n",
    "**1.** Write a program to play \"[Fizz Buzz](https://en.wikipedia.org/wiki/Fizz_buzz)\". Your code should loop over numbers between $1$ and $100$, printing `'Fizz'` for those that are divisible by $3$, `'Buzz'` for those divisible by $5$ and `'Fizz Buzz'` for those divisible by both $3$ and $5$.\n",
    "\n",
    "**2.** You have been provided with the melting and boiling points of various metals:\n",
    "\n",
    "```python\n",
    "metals = ['Fe', 'Al', 'Hg', 'Ti', 'Pb']\n",
    "melting_points = [1811, 933, 234, 1941, 601]\n",
    "boiling_points = [3134, 2743, 630, 3560, 2022]\n",
    "```\n",
    "\n",
    "Using a `for` loop, determine whether each metal is a solid, liquid or gas at $500\\,\\mathrm{K}$.\n",
    "\n",
    "```{tip}\n",
    "Remember you can use the `enumerate` function to keep track of which iteration you are on in a loop.\n",
    "```\n",
    "\n",
    "**3.** Consider $5.00 \\times 10^{-2}\\,\\mathrm{mol}$ of an ideal gas in a $1.00 \\times 10^{-3}\\,\\mathrm{m}^{3}$ container. \n",
    "\n",
    "Calculate the pressure at each temperature between $100\\,\\mathrm{K}$ and $1000\\,\\mathrm{K}$ in steps of $50\\,\\mathrm{K}$ and append these values to a `list`.\n",
    "\n",
    "```{admonition} Reminder\n",
    "You can access the gas constant $R$ by importing `scipy`.\n",
    "```\n",
    "\n",
    "**4.** Recall the previous exercise in [lab 1](../lab_1/synoptic_exercises.ipynb) in which we calculated various lines in the Hydrogen emission spectrum using the following equation:\n",
    "\n",
    "$$\\frac{1}{\\lambda} = R_{\\mathrm{H}}\\left[\\frac{1}{n_{1}^{2}} - \\frac{1}{n_{2}^{2}}\\right],$$\n",
    "\n",
    "where $\\lambda$ is the wavelength, $R_{\\mathrm{H}}$ is the Rydberg constant, $n_{1}$ is the principal quantum number of the emission state and $n_{2}$ is the principal quantum number of the excited state.\n",
    "\n",
    "a) Write a `for` loop to `print` the wavelengths (**in nanometres**) of the first $10$ lines of the Balmer series ($n_{1} = 2$).\n",
    "\n",
    "b) Add one additional loop to your code so that it can `print` the wavelengths of the first $10$ lines in the Lyman, Balmer and Paschen series.\n",
    "\n",
    "c) Create three **empty lists** called `lyman`, `balmer` and `paschen`.\n",
    "\n",
    "Add some [logic](logic.ipynb) to your code from b) so that, rather than printing each wavelength to the screen, each value is stored in the appropriate `list`."
   ]
  },
  {
   "cell_type": "code",
   "execution_count": null,
   "id": "dd5b07dc-4a73-4e05-9392-04bc3a32d13c",
   "metadata": {},
   "outputs": [],
   "source": []
  }
 ],
 "metadata": {
  "kernelspec": {
   "display_name": "Python 3 (ipykernel)",
   "language": "python",
   "name": "python3"
  },
  "language_info": {
   "codemirror_mode": {
    "name": "ipython",
    "version": 3
   },
   "file_extension": ".py",
   "mimetype": "text/x-python",
   "name": "python",
   "nbconvert_exporter": "python",
   "pygments_lexer": "ipython3",
   "version": "3.12.0"
  }
 },
 "nbformat": 4,
 "nbformat_minor": 5
}
