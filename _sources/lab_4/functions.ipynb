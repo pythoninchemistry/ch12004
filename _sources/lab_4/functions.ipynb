{
 "cells": [
  {
   "cell_type": "markdown",
   "id": "ef407899-b613-45b1-a7aa-bac426ecfee7",
   "metadata": {},
   "source": [
    "# Functions"
   ]
  },
  {
   "cell_type": "markdown",
   "id": "2da9e4bd-5ba9-47bd-83fb-350a80157889",
   "metadata": {},
   "source": [
    "In our previous labs, we have already been using **functions**: the `print` function, the `type` function, functions from the `math` library etc. So far, we've largely glossed over the details and have just introduced various functions as and when they become relevant. We are now going to dive headfirst into exactly what functions are, how they work and how you can **write your own**.\n",
    "\n",
    "A **function** is a piece of **reusable code** that takes some **inputs**, manipulates them in a useful way, and (usually) **returns** some output. To **call** a function, we type the function's name followed by a set of brackets in which we place the inputs: "
   ]
  },
  {
   "cell_type": "code",
   "execution_count": 1,
   "id": "514ec932-308b-431b-9d68-c25e740af5bc",
   "metadata": {},
   "outputs": [
    {
     "name": "stdout",
     "output_type": "stream",
     "text": [
      "Here we are calling the print function\n"
     ]
    }
   ],
   "source": [
    "message = 'Here we are calling the print function'\n",
    "\n",
    "print(message)"
   ]
  },
  {
   "cell_type": "markdown",
   "id": "798fd766-354a-49cc-832a-55e64eb1b871",
   "metadata": {},
   "source": [
    "The inputs to a function placed in the brackets are usually referred to as **arguments**. We could describe the line of code above as \"**calling** the print function with `message` **passed** as the only **argument**\". In this case, we are **calling** a **built-in** function: the `print` function is made available to us in Python **by default**. We have also seen examples where we have to `import` the function we want to use (i.e. it is **not** built-in):"
   ]
  },
  {
   "cell_type": "code",
   "execution_count": 2,
   "id": "7fd91b27-2dcf-4aa9-8bf2-27b14b07e13e",
   "metadata": {},
   "outputs": [
    {
     "data": {
      "text/plain": [
       "-1.0"
      ]
     },
     "execution_count": 2,
     "metadata": {},
     "output_type": "execute_result"
    }
   ],
   "source": [
    "import math\n",
    "\n",
    "math.cos(math.pi)"
   ]
  },
  {
   "cell_type": "markdown",
   "id": "494418b8-8140-428b-8ea6-9df8ce29ffca",
   "metadata": {},
   "source": [
    "Here we have **imported** the `math` library and used this to **call** the `cos` function with $\\pi$ as the only **argument**. We mentioned previously that functions usually **return** an output. Here, that output is `-1.0`: the value of $\\cos{\\pi}$."
   ]
  },
  {
   "cell_type": "markdown",
   "id": "50e6ad6d-42f9-4ac9-b118-28e29e571991",
   "metadata": {},
   "source": [
    "## Defining your own functions"
   ]
  },
  {
   "cell_type": "markdown",
   "id": "fb2610de-fb6c-44fc-94c8-f64476ac46f0",
   "metadata": {},
   "source": [
    "Now we've reminded ourselves of what functions are and what they do, let's get on with writing some of our own!"
   ]
  },
  {
   "cell_type": "code",
   "execution_count": 3,
   "id": "f33c43f6-0b10-4275-a88c-00d70d6342b3",
   "metadata": {},
   "outputs": [],
   "source": [
    "def add(a, b):\n",
    "    result = a + b\n",
    "    \n",
    "    return result"
   ]
  },
  {
   "cell_type": "markdown",
   "id": "fc1b606b-b924-4477-8533-cb17c22a506f",
   "metadata": {},
   "source": [
    "In this simple example, we have defined an `add` function which outputs the sum of two numbers. Let's go line-by-line:\n",
    "\n",
    "```python\n",
    "def add(a, b):\n",
    "```\n",
    "\n",
    "This first line starts with the `def` (short for **define**) keyword: this is how we tell Python that we want to **define** a new function.\n",
    "\n",
    "`def` is followed by `add`, this is the **name** we want to give our new function.\n",
    "\n",
    "Next comes a set of brackets `(a, b)`. This is where we specify what **arguments** we want our function to take. Here we want to `add` **two** numbers together, so we specify **two** arguments: `a` and `b`.\n",
    "\n",
    "```{important}\n",
    "We are not specifying at this stage what `a` and `b` are, these are just the names for our **arguments**. Only when we **call** the function later will `a` and `b` take on actual values.\n",
    "```\n",
    "\n",
    "Just like `if` statements and `for` loops, a function definition line ends with a colon `:` and is followed by an **indent**.\n",
    "\n",
    "```python\n",
    "    result = a + b\n",
    "```\n",
    "\n",
    "The second line does the actual calculation we are interested in, adding the value of `a` to the value of `b` and storing this in a new variable `result`.\n",
    "\n",
    "```python\n",
    "    return result\n",
    "```\n",
    "\n",
    "Finally, the last line starts with the `return` keyword. This is how we tell Python what the **output** of the function is. In this case, we want to `return` the sum of `a` and `b`, so we return our `result` variable.\n",
    "\n",
    "Having defined our `add` function, we can **call** it just like any other function:"
   ]
  },
  {
   "cell_type": "code",
   "execution_count": 4,
   "id": "09ad537e-e6e5-4d71-a48e-de32e70cef8a",
   "metadata": {},
   "outputs": [
    {
     "data": {
      "text/plain": [
       "15"
      ]
     },
     "execution_count": 4,
     "metadata": {},
     "output_type": "execute_result"
    }
   ],
   "source": [
    "add(5, 10)"
   ]
  },
  {
   "cell_type": "markdown",
   "id": "83f92f23-8443-48fb-8d79-feb71e85ef9b",
   "metadata": {},
   "source": [
    "When we call our `add` function, Python goes and looks at its **definition**:\n",
    "\n",
    "```python\n",
    "def add(a, b):\n",
    "    result = a + b\n",
    "\n",
    "    return result\n",
    "```\n",
    "\n",
    "The **arguments** we supplied were $5$ and $10$, so what Python does under the hood is:\n",
    "\n",
    "```python\n",
    "# What Python is doing when we type add(5, 10)\n",
    "\n",
    "a = 5\n",
    "b = 10\n",
    "\n",
    "result = a + b\n",
    "```\n",
    "\n",
    "And then `result` is **returned** as the output of the **function call**.\n",
    "\n",
    "It is worth emphasising at this point that we only **run the function definition once**. In other words we **do not** need to run:\n",
    "\n",
    "```python\n",
    "def add(a, b)\n",
    "    result = a + b\n",
    "\n",
    "    return result\n",
    "```\n",
    "\n",
    "Every time we **call** the `add` function, only **once** beforehand."
   ]
  },
  {
   "cell_type": "markdown",
   "id": "3a4b1410-3bb0-4d83-80eb-97e207bd74b1",
   "metadata": {},
   "source": [
    "### All about arguments"
   ]
  },
  {
   "cell_type": "markdown",
   "id": "839314bc-2739-4919-a398-0388f3b74189",
   "metadata": {},
   "source": [
    "Now that we have a general overview, let's talk a bit more about the specific components of a function, starting with **arguments**.\n",
    "\n",
    "In our previous example, it does not matter what **order** we supply our arguments in:"
   ]
  },
  {
   "cell_type": "code",
   "execution_count": 8,
   "id": "1a369756-08f8-466f-bb05-133231278794",
   "metadata": {},
   "outputs": [
    {
     "data": {
      "text/plain": [
       "15"
      ]
     },
     "execution_count": 8,
     "metadata": {},
     "output_type": "execute_result"
    }
   ],
   "source": [
    "add(5, 10)"
   ]
  },
  {
   "cell_type": "code",
   "execution_count": 9,
   "id": "b278e784-033b-41b0-8131-0c86c0009590",
   "metadata": {},
   "outputs": [
    {
     "data": {
      "text/plain": [
       "15"
      ]
     },
     "execution_count": 9,
     "metadata": {},
     "output_type": "execute_result"
    }
   ],
   "source": [
    "add(10, 5)"
   ]
  },
  {
   "cell_type": "markdown",
   "id": "02b47d92-2567-46fb-8d01-dadd54c638bc",
   "metadata": {},
   "source": [
    "This is simply a reflection of the fact that addition is **symmetric**, $a + b = b + a$. The vast majority of functions do not have this symmetry, for example $a \\div b \\neq b \\div a$:"
   ]
  },
  {
   "cell_type": "code",
   "execution_count": 10,
   "id": "1b61aade-e57b-4051-93c3-400323ca3c83",
   "metadata": {},
   "outputs": [],
   "source": [
    "def divide(a, b):\n",
    "    result = a / b\n",
    "\n",
    "    return result"
   ]
  },
  {
   "cell_type": "code",
   "execution_count": 11,
   "id": "23643535-4375-4e77-ae49-3d58e2d544a6",
   "metadata": {},
   "outputs": [
    {
     "data": {
      "text/plain": [
       "2.0"
      ]
     },
     "execution_count": 11,
     "metadata": {},
     "output_type": "execute_result"
    }
   ],
   "source": [
    "divide(10, 5)"
   ]
  },
  {
   "cell_type": "code",
   "execution_count": 12,
   "id": "88e05812-5a23-4fa4-b363-8e7ad671e4bf",
   "metadata": {},
   "outputs": [
    {
     "data": {
      "text/plain": [
       "0.5"
      ]
     },
     "execution_count": 12,
     "metadata": {},
     "output_type": "execute_result"
    }
   ],
   "source": [
    "divide(5, 10)"
   ]
  },
  {
   "cell_type": "markdown",
   "id": "40a36f9d-68dd-413f-9083-f87c1b2e2c46",
   "metadata": {},
   "source": [
    "This is why you will sometimes read about **positional** arguments: the **position**/**order** matters.\n",
    "\n",
    "As opposed to **positional** arguments, we can also make use of **keyword** arguments:"
   ]
  },
  {
   "cell_type": "code",
   "execution_count": 19,
   "id": "ddd2fd99-ed52-423b-833f-632b788747b9",
   "metadata": {},
   "outputs": [],
   "source": [
    "def divide(a, b, round_to_int=False):\n",
    "    result = a / b\n",
    "\n",
    "    if round_to_int:\n",
    "        return round(result)\n",
    "\n",
    "    else:\n",
    "        return result"
   ]
  },
  {
   "cell_type": "markdown",
   "id": "32970a8f-f0dc-456a-b7ea-d9f978cbf0da",
   "metadata": {},
   "source": [
    "Here we have added an example **keyword** argument to our `divide` function: `round_to_int`. Notice that this argument is followed by the assignment operator `=` and the `False` keyword, this indicates that we are assigning `False` to `round_to_int` **by default**. \n",
    "\n",
    "**Keyword** arguments are **optional**:"
   ]
  },
  {
   "cell_type": "code",
   "execution_count": 16,
   "id": "22a7760d-96bd-4291-a7cd-6805e4734ba2",
   "metadata": {},
   "outputs": [
    {
     "data": {
      "text/plain": [
       "3.3333333333333335"
      ]
     },
     "execution_count": 16,
     "metadata": {},
     "output_type": "execute_result"
    }
   ],
   "source": [
    "divide(10, 3)"
   ]
  },
  {
   "cell_type": "markdown",
   "id": "5be35feb-6096-47ed-be32-6a969ad55580",
   "metadata": {},
   "source": [
    "This means that we can **call** the `divide` function with only the two **positional** and **required** arguments, and it will function just like before. If we also set the **optional keyword** argument:"
   ]
  },
  {
   "cell_type": "code",
   "execution_count": 17,
   "id": "7507a1f5-8ad9-426c-9826-66acc060389f",
   "metadata": {},
   "outputs": [
    {
     "data": {
      "text/plain": [
       "3"
      ]
     },
     "execution_count": 17,
     "metadata": {},
     "output_type": "execute_result"
    }
   ],
   "source": [
    "divide(10, 3, round_to_int=True)"
   ]
  },
  {
   "cell_type": "markdown",
   "id": "83fa0d45-d6a7-43ee-b7cf-753c519e7917",
   "metadata": {},
   "source": [
    "Our output is now rounded to the nearest integer as per the logic in the function definition.\n",
    "\n",
    "Note that **keyword** arguments **cannot** come **before positional** arguments in the function definition:"
   ]
  },
  {
   "cell_type": "code",
   "execution_count": 17,
   "id": "8a566a67-9eb6-45d0-82a8-e92d58c78cf5",
   "metadata": {},
   "outputs": [
    {
     "ename": "SyntaxError",
     "evalue": "parameter without a default follows parameter with a default (3321974175.py, line 1)",
     "output_type": "error",
     "traceback": [
      "\u001b[0;36m  Cell \u001b[0;32mIn[17], line 1\u001b[0;36m\u001b[0m\n\u001b[0;31m    def divide(a, round_to_int=False, b):\u001b[0m\n\u001b[0m                                      ^\u001b[0m\n\u001b[0;31mSyntaxError\u001b[0m\u001b[0;31m:\u001b[0m parameter without a default follows parameter with a default\n"
     ]
    }
   ],
   "source": [
    "def divide(a, round_to_int=False, b):\n",
    "    result = a / b\n",
    "\n",
    "    if round_to_int:\n",
    "        return round(result)\n",
    "\n",
    "    else:\n",
    "        return result"
   ]
  },
  {
   "cell_type": "markdown",
   "id": "f69246b1-6e28-4a0b-99ec-01f684d54c69",
   "metadata": {},
   "source": [
    "You can also imagine other errors that we might encounter depending on the arguments that a function **expects** compared to those that we actually **pass** to it:"
   ]
  },
  {
   "cell_type": "code",
   "execution_count": 19,
   "id": "ac3c18c3-9449-4aa9-85a5-5d90cfb4d22d",
   "metadata": {},
   "outputs": [
    {
     "ename": "TypeError",
     "evalue": "unsupported operand type(s) for /: 'str' and 'int'",
     "output_type": "error",
     "traceback": [
      "\u001b[0;31m---------------------------------------------------------------------------\u001b[0m",
      "\u001b[0;31mTypeError\u001b[0m                                 Traceback (most recent call last)",
      "Cell \u001b[0;32mIn[19], line 1\u001b[0m\n\u001b[0;32m----> 1\u001b[0m \u001b[43mdivide\u001b[49m\u001b[43m(\u001b[49m\u001b[38;5;124;43m'\u001b[39;49m\u001b[38;5;124;43m10\u001b[39;49m\u001b[38;5;124;43m'\u001b[39;49m\u001b[43m,\u001b[49m\u001b[43m \u001b[49m\u001b[38;5;241;43m5\u001b[39;49m\u001b[43m)\u001b[49m\n",
      "Cell \u001b[0;32mIn[13], line 2\u001b[0m, in \u001b[0;36mdivide\u001b[0;34m(a, b, round_to_int)\u001b[0m\n\u001b[1;32m      1\u001b[0m \u001b[38;5;28;01mdef\u001b[39;00m \u001b[38;5;21mdivide\u001b[39m(a, b, round_to_int\u001b[38;5;241m=\u001b[39m\u001b[38;5;28;01mFalse\u001b[39;00m):\n\u001b[0;32m----> 2\u001b[0m     result \u001b[38;5;241m=\u001b[39m \u001b[43ma\u001b[49m\u001b[43m \u001b[49m\u001b[38;5;241;43m/\u001b[39;49m\u001b[43m \u001b[49m\u001b[43mb\u001b[49m\n\u001b[1;32m      4\u001b[0m     \u001b[38;5;28;01mif\u001b[39;00m round_to_int:\n\u001b[1;32m      5\u001b[0m         \u001b[38;5;28;01mreturn\u001b[39;00m \u001b[38;5;28mround\u001b[39m(result)\n",
      "\u001b[0;31mTypeError\u001b[0m: unsupported operand type(s) for /: 'str' and 'int'"
     ]
    }
   ],
   "source": [
    "divide('10', 5)"
   ]
  },
  {
   "cell_type": "markdown",
   "id": "20c56c0d-83cd-4c0a-b535-e69b015b9499",
   "metadata": {},
   "source": [
    "Here's a familiar example from our previous labs. We have **passed** `'10'` as the first argument, which is then assigned to `a`. Our function definition instructs Python to divide `a / b`, which is impossible if `a` is a string: hence the `TypeError`. There are ways in which we can make our functions at least somewhat tolerant to bad user input, but we will come to this later.\n",
    "\n",
    "Both the `add` and `divide` functions that we have written require **two** arguments, but there is nothing stopping us from writing functions that take more or less arguments. In fact, you can write functions that take **zero** arguments:"
   ]
  },
  {
   "cell_type": "code",
   "execution_count": 1,
   "id": "1d082f6f-26db-46c6-8241-41cd5a9a67ec",
   "metadata": {},
   "outputs": [],
   "source": [
    "def zero_arguments():\n",
    "    print('This function takes zero arguments!')"
   ]
  },
  {
   "cell_type": "markdown",
   "id": "81ff34d3-7500-4591-a174-0a997c43ead5",
   "metadata": {},
   "source": [
    "Even though there are no arguments, notice that the brackets are still required before the colon `:` in the function definition. The same goes for when we **call** `zero_arguments`:"
   ]
  },
  {
   "cell_type": "code",
   "execution_count": 2,
   "id": "febcc500-13d7-43bd-a2dc-bbb56cda5d0d",
   "metadata": {},
   "outputs": [
    {
     "name": "stdout",
     "output_type": "stream",
     "text": [
      "This function takes zero arguments!\n"
     ]
    }
   ],
   "source": [
    "zero_arguments()"
   ]
  },
  {
   "cell_type": "markdown",
   "id": "aaa06471-3f6f-4147-a544-6e3026d1e6fc",
   "metadata": {},
   "source": [
    "If we forget the brackets, Python will treat `zero_arguments` as a **variable**:"
   ]
  },
  {
   "cell_type": "code",
   "execution_count": 3,
   "id": "705289d3-dad2-4988-ad60-25bbcbf1391b",
   "metadata": {},
   "outputs": [
    {
     "data": {
      "text/plain": [
       "<function __main__.zero_arguments()>"
      ]
     },
     "execution_count": 3,
     "metadata": {},
     "output_type": "execute_result"
    }
   ],
   "source": [
    "zero_arguments"
   ]
  },
  {
   "cell_type": "markdown",
   "id": "96c46f04-b890-4384-857b-aa6a7656519c",
   "metadata": {},
   "source": [
    "```{note}\n",
    "This is true for all functions, regardless of the number of arguments they take. To **call** a function, we **must** follow its name with a set of brackets `(argument_1, argument_2 ...)`.\n",
    "```"
   ]
  },
  {
   "cell_type": "markdown",
   "id": "ef79905f-d4e9-4e56-804b-aa386a8e1a59",
   "metadata": {},
   "source": [
    "Of course, if `zero_arguments` takes... zero arguments, then you can imagine what might happen if we try to pass some anyway:"
   ]
  },
  {
   "cell_type": "code",
   "execution_count": 4,
   "id": "716c5eb3-d075-4e1f-9247-2bf9496566fc",
   "metadata": {},
   "outputs": [
    {
     "ename": "TypeError",
     "evalue": "zero_arguments() takes 0 positional arguments but 1 was given",
     "output_type": "error",
     "traceback": [
      "\u001b[0;31m---------------------------------------------------------------------------\u001b[0m",
      "\u001b[0;31mTypeError\u001b[0m                                 Traceback (most recent call last)",
      "Cell \u001b[0;32mIn[4], line 1\u001b[0m\n\u001b[0;32m----> 1\u001b[0m \u001b[43mzero_arguments\u001b[49m\u001b[43m(\u001b[49m\u001b[38;5;241;43m5\u001b[39;49m\u001b[43m)\u001b[49m\n",
      "\u001b[0;31mTypeError\u001b[0m: zero_arguments() takes 0 positional arguments but 1 was given"
     ]
    }
   ],
   "source": [
    "zero_arguments(5)"
   ]
  },
  {
   "cell_type": "markdown",
   "id": "0adaf298-2f44-4ee3-b294-3cdc3da6f3b0",
   "metadata": {},
   "source": [
    "### What to `return`?"
   ]
  },
  {
   "cell_type": "markdown",
   "id": "53b3c734-41d4-4b8c-b144-0e3f6454855c",
   "metadata": {},
   "source": [
    "Functions use the `return` keyword to specify what the **output** should be. For example, our `add` function **returns** the `result` of adding `a` and `b`:\n",
    "\n",
    "```python\n",
    "def add(a, b):\n",
    "    result = a + b\n",
    "\n",
    "    return result\n",
    "```\n",
    "\n",
    "What happens if we don't `return` anything?"
   ]
  },
  {
   "cell_type": "code",
   "execution_count": 6,
   "id": "f90bc04f-dfbe-413f-b01c-c96d8130b7a5",
   "metadata": {},
   "outputs": [],
   "source": [
    "def add(a, b):\n",
    "    result = a + b\n",
    "\n",
    "add(5, 10)"
   ]
  },
  {
   "cell_type": "markdown",
   "id": "5a4f63a1-72c7-43e9-9f83-46d8e4b9b7ed",
   "metadata": {},
   "source": [
    "The answer appears to be... **nothing**: running `add(5, 10)` produces **no output at all**. This is actually a little deceptive, as Python **is** returning **something**. We can see this if we `print` the output of the `add` function:"
   ]
  },
  {
   "cell_type": "code",
   "execution_count": 7,
   "id": "8a213f62-7d42-4558-9d56-cc2c402c499c",
   "metadata": {},
   "outputs": [
    {
     "name": "stdout",
     "output_type": "stream",
     "text": [
      "None\n"
     ]
    }
   ],
   "source": [
    "print(add(5, 10))"
   ]
  },
  {
   "cell_type": "markdown",
   "id": "2af89a5d-a289-438c-a92a-f2aef567d3e2",
   "metadata": {},
   "source": [
    "Or we could use the `type` function:"
   ]
  },
  {
   "cell_type": "code",
   "execution_count": 8,
   "id": "320ab7d8-2b50-4dbd-accd-9a3631cebf7e",
   "metadata": {},
   "outputs": [
    {
     "data": {
      "text/plain": [
       "NoneType"
      ]
     },
     "execution_count": 8,
     "metadata": {},
     "output_type": "execute_result"
    }
   ],
   "source": [
    "type(add(5, 10))"
   ]
  },
  {
   "cell_type": "markdown",
   "id": "720028e1-58dd-4754-aec8-6d6e65b5451a",
   "metadata": {},
   "source": [
    "If you do not specify what to `return` from a function, the default is to return `None`. \n",
    "\n",
    "We have not encountered `None` before, but the idea is relatively simple. `None` is Python for \"nothing\" or \"null\", it is a way of representing a **lack** of data. If our function doesn't `return` anything, then `None` represents exactly that: it is the absence of data. We have actually already met a few functions that don't `return` anything:"
   ]
  },
  {
   "cell_type": "code",
   "execution_count": 10,
   "id": "94bc26ab-e094-4f02-9065-7b19677ec3cc",
   "metadata": {},
   "outputs": [
    {
     "name": "stdout",
     "output_type": "stream",
     "text": [
      "The print function does not return anything!\n"
     ]
    },
    {
     "data": {
      "text/plain": [
       "NoneType"
      ]
     },
     "execution_count": 10,
     "metadata": {},
     "output_type": "execute_result"
    }
   ],
   "source": [
    "type(print('The print function does not return anything!'))"
   ]
  },
  {
   "cell_type": "markdown",
   "id": "24c43f60-a3ec-4d1a-88ea-602e8147088d",
   "metadata": {},
   "source": [
    "It may seem strange, but the `print` function does not `return` anything, hence the `type` of its output is `NoneType`: it returns `None`. Notice the distinction between what is displayed on the screen using `print` versus what is actually returned. You can see this even more clearly using variables:"
   ]
  },
  {
   "cell_type": "code",
   "execution_count": 11,
   "id": "e8f2334c-4b33-4cdf-b109-b515272b78b0",
   "metadata": {},
   "outputs": [
    {
     "name": "stdout",
     "output_type": "stream",
     "text": [
      "This will allow us to store whatever the print function returns!\n",
      "None\n"
     ]
    }
   ],
   "source": [
    "print_return_value = print('This will allow us to store whatever the print function returns!')\n",
    "\n",
    "print(print_return_value)"
   ]
  },
  {
   "cell_type": "markdown",
   "id": "ec558da2-b5f5-4190-86e6-362f6fbd3bed",
   "metadata": {},
   "source": [
    "---\n",
    "\n",
    "Our examples have always returned **one** output, but Python allows us to return as many outputs as we would like! Let's say I want to write a function that calculates the sum of two numbers **and** the difference between them:"
   ]
  },
  {
   "cell_type": "code",
   "execution_count": 2,
   "id": "8788cf4d-b6ae-44e4-bd44-d87d4ed77e92",
   "metadata": {},
   "outputs": [
    {
     "data": {
      "text/plain": [
       "(12, -6)"
      ]
     },
     "execution_count": 2,
     "metadata": {},
     "output_type": "execute_result"
    }
   ],
   "source": [
    "def add_and_subtract(a, b):\n",
    "    addition = a + b\n",
    "    subtraction = a - b\n",
    "\n",
    "    return addition, subtraction\n",
    "\n",
    "add_and_subtract(3, 9)"
   ]
  },
  {
   "cell_type": "markdown",
   "id": "88bf6287-8957-4931-afff-1ebb9fd4b7de",
   "metadata": {},
   "source": [
    "As you can see above, `add_and_subtract` returns **two** values: `addition` and `subtraction`; the syntax for returning multiple values is simply to separate them by commas `return addition, subtraction`.\n",
    "\n",
    "When we `return` multiple values, they are output from the function as a `tuple`:"
   ]
  },
  {
   "cell_type": "code",
   "execution_count": 7,
   "id": "886b5fc8-9bf6-494e-8d89-2393d490927c",
   "metadata": {},
   "outputs": [
    {
     "name": "stdout",
     "output_type": "stream",
     "text": [
      "(12, -6)\n"
     ]
    },
    {
     "data": {
      "text/plain": [
       "tuple"
      ]
     },
     "execution_count": 7,
     "metadata": {},
     "output_type": "execute_result"
    }
   ],
   "source": [
    "result = add_and_subtract(3, 9)\n",
    "print(result)\n",
    "\n",
    "type(result)"
   ]
  },
  {
   "cell_type": "markdown",
   "id": "a93ec58c-69a9-40f0-a4df-2c3f203d68e5",
   "metadata": {},
   "source": [
    "Each element of this `tuple` can be accessed in all the ways we learnt about back in [lab 2](../lab_2/lists.ipynb). It is relatively common in the context of functions returning multiple outputs to use **multiple assignment** to store each output in a variable:"
   ]
  },
  {
   "cell_type": "code",
   "execution_count": 8,
   "id": "64ba65af-5933-4a97-9116-e8a86744f99d",
   "metadata": {},
   "outputs": [
    {
     "name": "stdout",
     "output_type": "stream",
     "text": [
      "12 -6\n"
     ]
    }
   ],
   "source": [
    "addition, subtraction = add_and_subtract(3, 9)\n",
    "\n",
    "print(addition, subtraction)"
   ]
  },
  {
   "cell_type": "markdown",
   "id": "f09fefd6-0079-46f2-973f-320630700108",
   "metadata": {},
   "source": [
    "## Scope"
   ]
  },
  {
   "cell_type": "markdown",
   "id": "00940861-d8e7-4ade-ac93-4d87c97fd90c",
   "metadata": {},
   "source": [
    "Returning again to our `divide` function, this time without the keyword argument:\n",
    "\n",
    "```python\n",
    "def divide(a, b):\n",
    "    result = a / b\n",
    "\n",
    "    return result\n",
    "```"
   ]
  },
  {
   "cell_type": "markdown",
   "id": "5607aef3-8bc3-48c1-be40-9edd1f2a04e0",
   "metadata": {},
   "source": [
    "Let's talk about `a` and `b`. As discussed prior, these are the **arguments** to the `divide` function. When we **call** `divide`, the first argument we pass is **assigned** to `a` and the second is **assigned** to `b`."
   ]
  },
  {
   "cell_type": "code",
   "execution_count": 20,
   "id": "bd6d856a-1e86-4f93-81d7-dbd47d87b2a1",
   "metadata": {},
   "outputs": [
    {
     "data": {
      "text/plain": [
       "6.0"
      ]
     },
     "execution_count": 20,
     "metadata": {},
     "output_type": "execute_result"
    }
   ],
   "source": [
    "divide(60, 10)"
   ]
  },
  {
   "cell_type": "markdown",
   "id": "3c08c2d7-a3d8-47e2-954b-324cbebb6787",
   "metadata": {},
   "source": [
    "In other words, when we **call** `divide`, `a` and `b` are used as **variables**. When we ran `divide(60, 10)` above, Python implicitly ran:\n",
    "\n",
    "```python\n",
    "a = 60\n",
    "b = 10\n",
    "```\n",
    "\n",
    "So we would imagine that if we ran `print(a)`, we should get $60$, right?"
   ]
  },
  {
   "cell_type": "code",
   "execution_count": 22,
   "id": "84a1cba5-8da3-45dd-a1b7-537f80c60ff9",
   "metadata": {},
   "outputs": [
    {
     "ename": "NameError",
     "evalue": "name 'a' is not defined",
     "output_type": "error",
     "traceback": [
      "\u001b[0;31m---------------------------------------------------------------------------\u001b[0m",
      "\u001b[0;31mNameError\u001b[0m                                 Traceback (most recent call last)",
      "Cell \u001b[0;32mIn[22], line 1\u001b[0m\n\u001b[0;32m----> 1\u001b[0m \u001b[38;5;28mprint\u001b[39m(\u001b[43ma\u001b[49m)\n",
      "\u001b[0;31mNameError\u001b[0m: name 'a' is not defined"
     ]
    }
   ],
   "source": [
    "print(a)"
   ]
  },
  {
   "cell_type": "markdown",
   "id": "9c16cbdf-aec9-44d4-ae38-b38ab855bee2",
   "metadata": {},
   "source": [
    "As you can see, the answer is no. Not only do we not get $60$, attempting to `print(a)` doesn't work at all!\n",
    "\n",
    "```{error}\n",
    "This is an example of a `NameError`, which communicates that we have attempted to access a **variable that does not exist**.\n",
    "```"
   ]
  },
  {
   "cell_type": "markdown",
   "id": "457472b6-bb6c-4e8d-afbe-f998721c63e6",
   "metadata": {},
   "source": [
    "But hang on, how can `a` not be defined if we have just run the `divide` function? This is a consequence of local **scope**:"
   ]
  },
  {
   "cell_type": "code",
   "execution_count": 23,
   "id": "f53af324-354c-4a90-b333-f3195279ed28",
   "metadata": {},
   "outputs": [
    {
     "name": "stdout",
     "output_type": "stream",
     "text": [
      "5 10\n",
      "5 10\n"
     ]
    }
   ],
   "source": [
    "a = 5\n",
    "b = 10\n",
    "\n",
    "print(a, b)\n",
    "\n",
    "divide(60, 10)\n",
    "\n",
    "print(a, b)"
   ]
  },
  {
   "cell_type": "markdown",
   "id": "f3798e18-3992-4fe9-9ede-1554e0e2ada0",
   "metadata": {},
   "source": [
    "Hopefully the example above clears things up a bit. The idea of **scope** is simple: some **variables** are only **defined** (i.e. they only **exist**) within certain **bounds**. In the example above, we explicitly assign `a = 5` and `b = 10`. We then call the `divide` function, which also assigns `a` and `b`, but to **different** values (here $60$ and $10$). Nonetheless, if we `print(a, b)` before and after calling `divide`, we see that they have not changed! This is because the **variables** in the `divide` functions are restricted to **local scope**. In other words, **variables** defined **within** functions are not defined **outside** of those functions.\n",
    "\n",
    "It is worth emphasising that the opposite is **not** true. Variables defined in **global scope** are indeed defined within **local scope**:"
   ]
  },
  {
   "cell_type": "code",
   "execution_count": 24,
   "id": "bbaba41a-1842-42b7-9c5b-0df928ad4b97",
   "metadata": {},
   "outputs": [],
   "source": [
    "global_scope = 10\n",
    "\n",
    "def scope_example(a, b):\n",
    "    result = (a - b) / global_scope\n",
    "\n",
    "    return result"
   ]
  },
  {
   "cell_type": "markdown",
   "id": "ad63f364-1ef9-4bb5-90a9-3325d8057d69",
   "metadata": {},
   "source": [
    "Here we have defined a `scope_example` function, notice that it refers to the `global_scope` variable which **is not an argument to the function**. Despite the fact that `global_scope` is not explicitly **passed** to `scope_example`:"
   ]
  },
  {
   "cell_type": "code",
   "execution_count": 25,
   "id": "497cf928-245e-4cc9-aba1-100aeb4c1375",
   "metadata": {},
   "outputs": [
    {
     "data": {
      "text/plain": [
       "0.5"
      ]
     },
     "execution_count": 25,
     "metadata": {},
     "output_type": "execute_result"
    }
   ],
   "source": [
    "scope_example(10, 5)"
   ]
  },
  {
   "cell_type": "markdown",
   "id": "816710f9-286b-4ee0-bdf1-72a72b083c4d",
   "metadata": {},
   "source": [
    "We find that it is able to access `global_scope` all the same. \n",
    "\n",
    "It is generally a bad idea to mix up global and local variables. For example, if we change the value of `global_scope`:"
   ]
  },
  {
   "cell_type": "code",
   "execution_count": 26,
   "id": "4eed91d8-b706-4c1e-826e-7a25ec70b179",
   "metadata": {},
   "outputs": [
    {
     "ename": "TypeError",
     "evalue": "unsupported operand type(s) for /: 'int' and 'str'",
     "output_type": "error",
     "traceback": [
      "\u001b[0;31m---------------------------------------------------------------------------\u001b[0m",
      "\u001b[0;31mTypeError\u001b[0m                                 Traceback (most recent call last)",
      "Cell \u001b[0;32mIn[26], line 3\u001b[0m\n\u001b[1;32m      1\u001b[0m global_scope \u001b[38;5;241m=\u001b[39m \u001b[38;5;124m'\u001b[39m\u001b[38;5;124mThis is now a string.\u001b[39m\u001b[38;5;124m'\u001b[39m\n\u001b[0;32m----> 3\u001b[0m \u001b[43mscope_example\u001b[49m\u001b[43m(\u001b[49m\u001b[38;5;241;43m10\u001b[39;49m\u001b[43m,\u001b[49m\u001b[43m \u001b[49m\u001b[38;5;241;43m5\u001b[39;49m\u001b[43m)\u001b[49m\n",
      "Cell \u001b[0;32mIn[24], line 4\u001b[0m, in \u001b[0;36mscope_example\u001b[0;34m(a, b)\u001b[0m\n\u001b[1;32m      3\u001b[0m \u001b[38;5;28;01mdef\u001b[39;00m \u001b[38;5;21mscope_example\u001b[39m(a, b):\n\u001b[0;32m----> 4\u001b[0m     result \u001b[38;5;241m=\u001b[39m \u001b[43m(\u001b[49m\u001b[43ma\u001b[49m\u001b[43m \u001b[49m\u001b[38;5;241;43m-\u001b[39;49m\u001b[43m \u001b[49m\u001b[43mb\u001b[49m\u001b[43m)\u001b[49m\u001b[43m \u001b[49m\u001b[38;5;241;43m/\u001b[39;49m\u001b[43m \u001b[49m\u001b[43mglobal_scope\u001b[49m\n\u001b[1;32m      6\u001b[0m     \u001b[38;5;28;01mreturn\u001b[39;00m result\n",
      "\u001b[0;31mTypeError\u001b[0m: unsupported operand type(s) for /: 'int' and 'str'"
     ]
    }
   ],
   "source": [
    "global_scope = 'This is now a string.'\n",
    "\n",
    "scope_example(10, 5)"
   ]
  },
  {
   "cell_type": "markdown",
   "id": "7291ff3c-16ec-4942-af0f-923c6f6db85a",
   "metadata": {},
   "source": [
    "Our `scope_example` function suddenly stops working, as `global_scope` is now a string. This behaviour can lead to very troublesome bugs, as it is all too easy to accidentally change something in global **scope** that then propagates into any functions that use use that variable in local **scope**.\n",
    "\n",
    "There is one situation in which it is more acceptable to rely on **global scope**:"
   ]
  },
  {
   "cell_type": "code",
   "execution_count": 27,
   "id": "2880dd05-e099-4456-a1d0-d399e2db4afb",
   "metadata": {},
   "outputs": [],
   "source": [
    "R = 8.314\n",
    "\n",
    "def ideal_gas_volume(p, n, T):\n",
    "    return (n * R * T) / p"
   ]
  },
  {
   "cell_type": "markdown",
   "id": "d65afe73-15dc-448e-b128-31497b8b6f0b",
   "metadata": {},
   "source": [
    "Here we define the variable `R = 8.314` in **global** scope. We then access `R` in the **local** scope of the `ideal_gas_volume` function. Objectively, this is the same situation as our previous example with `global_scope` and the `scope_example` function. The key detail is that here `R` is (roughly) the gas **constant**, so we **do not expect its value to change**. If we access global scope from within a function, but we expect that the variables we are accessing **will not change**, then this shouldn't cause us any unexpected problems, as we can rely on `R` always being `8.314`."
   ]
  },
  {
   "cell_type": "code",
   "execution_count": null,
   "id": "20e89e27-eec3-435f-82db-9d79534ae60b",
   "metadata": {},
   "outputs": [],
   "source": []
  }
 ],
 "metadata": {
  "kernelspec": {
   "display_name": "Python 3 (ipykernel)",
   "language": "python",
   "name": "python3"
  },
  "language_info": {
   "codemirror_mode": {
    "name": "ipython",
    "version": 3
   },
   "file_extension": ".py",
   "mimetype": "text/x-python",
   "name": "python",
   "nbconvert_exporter": "python",
   "pygments_lexer": "ipython3",
   "version": "3.12.0"
  }
 },
 "nbformat": 4,
 "nbformat_minor": 5
}
