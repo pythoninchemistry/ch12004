{
 "cells": [
  {
   "cell_type": "markdown",
   "id": "bb39c4e7-4c64-4110-ae36-44b94c996059",
   "metadata": {},
   "source": [
    "# Writing readable code"
   ]
  },
  {
   "cell_type": "markdown",
   "id": "7edf37b0-30b6-46a1-9bfe-a78f9e0bb6e0",
   "metadata": {},
   "source": [
    "We have now covered enough Python for us to talk a little bit about **readability**.\n",
    "\n",
    "So far we have not really been concerned with writing \"good\" code, or really with judging the \"quality\" of our code at all. We have just been learning bits and bobs of Python and trying to write code that does what we would like it to do. Of course, what constitutes \"good\" code is highly subjective, one person's \"good\" code is another's \"absolute disaster\", so we would probably be better off talking about more objective metrics. In programming discourse you will often hear about **readable code**, which is a slightly more clear-cut descriptor. If your code is **readable**, it should be possible for someone else to have a quick scan through it and get a rough idea of what it is supposed to do and why it is written in the way that it is.\n",
    "\n",
    "It's worth us pausing for a moment to consider a few reasons **why** we should care about making our code **readable**:\n",
    "\n",
    "- It is much easier to share code with other people if you don't need to spend hours on end explaining what it does and how to use it.\n",
    "    - This is true not only for other people, but also for your **future self**! It is quite incredible how quickly you can forget why you wrote your code from a few weeks ago the way that you did. Making your code as **readable** as possible mitigates this problem and ensures that you can pick up where you left off much more quickly.\n",
    "- Making your code more **readable** often makes it easier to spot **bugs**. Simple things like poorly named variables are often the cause of very difficult to find problems.\n",
    "    - This is also important if you are asking other people for help with your code. If they can understand what you have written relatively quickly, then they are much more likely to be able to offer meaningful advice rather than having to stare at your monitor for a good half an hour.\n",
    " \n",
    "As mentioned above, readability is definitely not objective, but nonetheless there are at least a couple of simple things you can do that most people would agree are a good idea."
   ]
  },
  {
   "cell_type": "markdown",
   "id": "0f1ccd20-2737-4e1c-a0ee-a82bd61d41c4",
   "metadata": {},
   "source": [
    "## Variable names"
   ]
  },
  {
   "cell_type": "markdown",
   "id": "0608524e-fad9-42af-a5cd-d46584e021f9",
   "metadata": {},
   "source": [
    "When we first looked at [variables](../lab_1/variables.ipynb), we saw that they can be named almost anything that you would like:"
   ]
  },
  {
   "cell_type": "code",
   "execution_count": 1,
   "id": "44c01a0e-0e53-444f-979b-68a8a65161f8",
   "metadata": {},
   "outputs": [
    {
     "name": "stdout",
     "output_type": "stream",
     "text": [
      "5\n"
     ]
    }
   ],
   "source": [
    "a = 5\n",
    "\n",
    "print(a)"
   ]
  },
  {
   "cell_type": "code",
   "execution_count": 2,
   "id": "128815e3-0c01-4e52-8ae1-bd6a36f801ff",
   "metadata": {},
   "outputs": [
    {
     "name": "stdout",
     "output_type": "stream",
     "text": [
      "5\n"
     ]
    }
   ],
   "source": [
    "a_number = 5\n",
    "\n",
    "print(a_number)"
   ]
  },
  {
   "cell_type": "code",
   "execution_count": 3,
   "id": "6bace1c2-1abc-4c1f-9ae9-f25fbdf868bd",
   "metadata": {},
   "outputs": [
    {
     "name": "stdout",
     "output_type": "stream",
     "text": [
      "5\n"
     ]
    }
   ],
   "source": [
    "ghdioaspghidasp = 5\n",
    "\n",
    "print(ghdioaspghidasp)"
   ]
  },
  {
   "cell_type": "markdown",
   "id": "0bf71ef8-da5b-41de-b54f-0c27334f92ee",
   "metadata": {},
   "source": [
    "Hopefully we can all agree that the last example is **by far** the worst. In general, it is best to name your variables according to these rough guidelines:\n",
    "\n",
    "- **Avoid single letter names** unless there is a very good reason to use one.\n",
    "    - One example where this makes some sense is to reproduce pen and paper notation e.g. using `K` to represent an equilibrium constant. Even then, it is usually better to encode some additional information such as `K_298` for the equilibrium constant at $298\\,$K.\n",
    "- Don't be afraid, within reason, to be very **explicit**. For example, if we're defining a variable in which we will store a list of elemental symbols, go with `elemental_symbols` rather than `el_symbs` or something to that effect.\n",
    "    - There are obviously limits to this. If your variable name has $> 4$ separate words in it, it's probably annoyingly long to keep typing.\n",
    "- **Avoid UPPER CASE** unless there is a natural reason to use it.\n",
    "    - Much like single letter names, there are some situations in which this does make sense e.g. `delta_G` for $\\Delta G$."
   ]
  },
  {
   "cell_type": "markdown",
   "id": "712cde53-8b34-4ad1-b535-3b3a155309b2",
   "metadata": {},
   "source": [
    "## Whitespace"
   ]
  },
  {
   "cell_type": "markdown",
   "id": "9041fad9-6fda-40e1-a2f2-ade3c6eb14bb",
   "metadata": {},
   "source": [
    "As you've probably gathered by now, Python is relatively relaxed when it comes to **whitespace**. For example, we can type basic addition like this:"
   ]
  },
  {
   "cell_type": "code",
   "execution_count": 4,
   "id": "3f3e4cda-bfb1-455c-8954-49c555c2661a",
   "metadata": {},
   "outputs": [
    {
     "data": {
      "text/plain": [
       "12"
      ]
     },
     "execution_count": 4,
     "metadata": {},
     "output_type": "execute_result"
    }
   ],
   "source": [
    "5+7"
   ]
  },
  {
   "cell_type": "markdown",
   "id": "868ee2a8-91ca-45aa-b97c-d1f54fb55350",
   "metadata": {},
   "source": [
    "Or like this:"
   ]
  },
  {
   "cell_type": "code",
   "execution_count": 5,
   "id": "12b6f8fc-4ae9-46b7-aac9-4c7812b5128a",
   "metadata": {},
   "outputs": [
    {
     "data": {
      "text/plain": [
       "12"
      ]
     },
     "execution_count": 5,
     "metadata": {},
     "output_type": "execute_result"
    }
   ],
   "source": [
    "5 + 7"
   ]
  },
  {
   "cell_type": "markdown",
   "id": "b5614472-093f-4402-b490-bc332e5b6ed5",
   "metadata": {},
   "source": [
    "This same principle applies to much of Python's basic syntax such as variable assignment:"
   ]
  },
  {
   "cell_type": "code",
   "execution_count": 6,
   "id": "dd45bf62-5632-49a4-b9a5-bb53b1cf729d",
   "metadata": {},
   "outputs": [],
   "source": [
    "a=5"
   ]
  },
  {
   "cell_type": "markdown",
   "id": "8cdd78a0-add4-44a4-a187-1c12fcd433e6",
   "metadata": {},
   "source": [
    "Versus:"
   ]
  },
  {
   "cell_type": "code",
   "execution_count": 7,
   "id": "bb898c09-6312-451e-bd71-15fc993b501f",
   "metadata": {},
   "outputs": [],
   "source": [
    "a = 5"
   ]
  },
  {
   "cell_type": "markdown",
   "id": "0ada00c6-5afc-42c7-9862-a2afa2f15167",
   "metadata": {},
   "source": [
    "Or in lists:"
   ]
  },
  {
   "cell_type": "code",
   "execution_count": 8,
   "id": "1f28a538-de3d-4b0c-8fdd-4f6d9738a648",
   "metadata": {},
   "outputs": [],
   "source": [
    "elemental_symbols = ['Li','Na','K','Rb','Cs','Fr']"
   ]
  },
  {
   "cell_type": "markdown",
   "id": "bba0bf49-6219-4f3e-bb00-4f357b0d2e47",
   "metadata": {},
   "source": [
    "Versus:"
   ]
  },
  {
   "cell_type": "code",
   "execution_count": 9,
   "id": "e5d7ffc8-b1a1-41ae-b11c-6230b5fc7895",
   "metadata": {},
   "outputs": [],
   "source": [
    "elemental_symbols = ['Li', 'Na', 'K', 'Rb', 'Cs', 'Fr']"
   ]
  },
  {
   "cell_type": "markdown",
   "id": "576b819d-9f23-4ffc-8eb3-80ada106d756",
   "metadata": {},
   "source": [
    "The same goes for other data structures like dictionaries:"
   ]
  },
  {
   "cell_type": "code",
   "execution_count": 10,
   "id": "87737036-04cd-4d88-a8d4-81ef8487bf2f",
   "metadata": {},
   "outputs": [],
   "source": [
    "regular_shape_edges = {3:'Triangle',4:'Square',5:'Pentagon',6:'Hexagon',7:'Heptagon',8:'Octagon'}"
   ]
  },
  {
   "cell_type": "markdown",
   "id": "63e88ebe-c741-4c2d-a5f4-e3bdcef5aca5",
   "metadata": {},
   "source": [
    "Versus:"
   ]
  },
  {
   "cell_type": "code",
   "execution_count": 11,
   "id": "50ad085e-19ed-480e-b90e-0ce9fadbc24c",
   "metadata": {},
   "outputs": [],
   "source": [
    "regular_shape_edges = {3 : 'Triangle', 4 : 'Square', 5 : 'Pentagon' , 6 : 'Hexagon' , 7 : 'Heptagon' , 8 : 'Octagon'}"
   ]
  },
  {
   "cell_type": "markdown",
   "id": "544a81ae-0623-406d-85b7-a050b5c103d9",
   "metadata": {},
   "source": [
    "In fact with data structures, we can insert even more whitespace:"
   ]
  },
  {
   "cell_type": "code",
   "execution_count": 12,
   "id": "57e75eb4-b425-4a6c-ac72-96efe7c90661",
   "metadata": {},
   "outputs": [],
   "source": [
    "regular_shape_edges = {3 : 'Triangle',\n",
    "                       4 : 'Square',\n",
    "                       5 : 'Pentagon',\n",
    "                       6 : 'Hexagon',\n",
    "                       7 : 'Heptagon',\n",
    "                       8 : 'Octagon'}"
   ]
  },
  {
   "cell_type": "markdown",
   "id": "3c6e99f6-2424-4976-8cb1-187a2484f5f2",
   "metadata": {},
   "source": [
    "You get the general idea.\n",
    "\n",
    "It's worth bearing in mind that sometimes you can take this concept **too far**. If you really wanted to, you could write Python like this:"
   ]
  },
  {
   "cell_type": "code",
   "execution_count": 13,
   "id": "f5b64752-e6a7-4ec2-aaf9-dd4629220832",
   "metadata": {},
   "outputs": [
    {
     "name": "stdout",
     "output_type": "stream",
     "text": [
      "5 11.53 -22\n"
     ]
    }
   ],
   "source": [
    "a                       = 5\n",
    "b      = 11.53\n",
    "c                                                                         = -22\n",
    "\n",
    "print         (                           a,                   b,                              c)"
   ]
  },
  {
   "cell_type": "markdown",
   "id": "0718bae5-e9f8-4a1b-8bdc-8373f4348803",
   "metadata": {},
   "source": [
    "But hopefully you can see that this is **anything but** readable.\n",
    "\n",
    "In addition to the examples above, we can also use whitespace at a higher level to create **blocks** of code:"
   ]
  },
  {
   "cell_type": "code",
   "execution_count": 14,
   "id": "59beaf62-d630-4b8e-bfa5-2a6ab474eaaa",
   "metadata": {},
   "outputs": [
    {
     "name": "stdout",
     "output_type": "stream",
     "text": [
      "1.4142135623730951\n",
      "6\n"
     ]
    }
   ],
   "source": [
    "import math\n",
    "\n",
    "numbers = [1, 2, 3, 4, 5, 6]\n",
    "letters = ['a', 'b', 'c', 'd', 'e', 'f']\n",
    "\n",
    "sqrt_2 = math.sqrt(numbers[1])\n",
    "len_letters = len(letters)\n",
    "\n",
    "print(sqrt_2)\n",
    "print(len_letters)"
   ]
  },
  {
   "cell_type": "markdown",
   "id": "3acc16a0-ba40-44f2-b9cc-31f1abfe686e",
   "metadata": {},
   "source": [
    "Here we have separated our code into four **blocks**, one for `import` statements, one for defining variables, one for performing some calculation with those variables and one for printing the results of that calculation. This is certainly a somewhat trivial example but the principle holds all the same: you can use whitespace to essentially create \"paragraphs\" in code, to organise collections of lines **in a logical fashion**."
   ]
  },
  {
   "cell_type": "markdown",
   "id": "9f6f8516-5a85-4dd4-a119-0ad5f22ec807",
   "metadata": {},
   "source": [
    "## Documentation"
   ]
  },
  {
   "cell_type": "markdown",
   "id": "f6153cf0-8d54-45be-bcd0-ea81f52f8795",
   "metadata": {},
   "source": [
    "Whilst naming your variables sensibly and laying out your code logically might help, there are many situations in which it is **impossible** to make your code sufficiently **readable** just by adjusting the **code itself**. This is why we use **documentation**: additional information about the code that is not code in itself.\n",
    "\n",
    "We have already met one forms of documentation: **comments**. As a reminder, comments are messages following a `#` which can be placed **within** your code to provide additional context where necessary:"
   ]
  },
  {
   "cell_type": "code",
   "execution_count": 15,
   "id": "a9638f74-b7d6-4ac0-8be4-a8b9ff3306c7",
   "metadata": {},
   "outputs": [],
   "source": [
    "temperatures = [301.5, 298.1, 296.9, 302.3, 305.0]\n",
    "\n",
    "# Calculate the mean temperature\n",
    "mean_temperature = sum(temperatures) / len(temperatures)"
   ]
  },
  {
   "cell_type": "markdown",
   "id": "88318dcc-cfa5-451a-90e3-12a33b30873b",
   "metadata": {},
   "source": [
    "This particular comment is not necessary, as the code is relatively self-explanatory, but it demonstrates the use of **comments** well enough in any case. Comments can also go on the same line as code:"
   ]
  },
  {
   "cell_type": "code",
   "execution_count": 16,
   "id": "09eb1d0e-8073-4864-9c73-c750bb084a34",
   "metadata": {},
   "outputs": [],
   "source": [
    "a = 5 # Defining the value of a."
   ]
  },
  {
   "cell_type": "markdown",
   "id": "9b5d2935-94ab-4956-a247-97c9a8392cea",
   "metadata": {},
   "source": [
    "Another way to document your code is to use **Markdown cells**, which are not an inherent feature of Python but of Jupyter notebooks. Comments are generally best saved for small messages **within** your code to call out specific parts that are not immediately easy to interpret, whereas Markdown cells are better suited for longer form explanations interspersed between blocks of code (**code cells**). The words you are reading right now were written in a **Markdown cell** in a Jupyter notebook, and serve as a good example of how they can be interwoven amongst code cells to provide necessary context.\n",
    "\n",
    "You can create a Markdown cell in a Jupyter notebook following the guidance available [here](../resources/noteable_interface.md) (see `Switching cell type`). [Markdown](https://en.wikipedia.org/wiki/Markdown) is a markup language which can be used to create nicely formatted text, equations, tables etc. For now, you can just treat Markdown cells as big block **comments**, don't worry so much about fancy formatting such as **bold** or *italics* and all that jazz - we'll come to that later.\n",
    "\n",
    "---\n",
    "\n",
    "Now that you have a rudimentary understanding of how to write **readable** code and how to **document** what it is supposed to do, try to practice these things as you move forwards. In general, the more **readable** your code is in the first place, the less **documentation** it will likely require. Most of this is habitual and can be roughly equated to trying to improve your handwriting, just in programming terms instead. If you get used to following (roughly) the guidelines presented here, then soon enough you won't even have to think about it any more and your future self will be very thankful indeed!"
   ]
  },
  {
   "cell_type": "code",
   "execution_count": null,
   "id": "82652fa4-f247-46cc-b674-a9ac80bd3dd4",
   "metadata": {},
   "outputs": [],
   "source": []
  }
 ],
 "metadata": {
  "kernelspec": {
   "display_name": "Python 3 (ipykernel)",
   "language": "python",
   "name": "python3"
  },
  "language_info": {
   "codemirror_mode": {
    "name": "ipython",
    "version": 3
   },
   "file_extension": ".py",
   "mimetype": "text/x-python",
   "name": "python",
   "nbconvert_exporter": "python",
   "pygments_lexer": "ipython3",
   "version": "3.12.0"
  }
 },
 "nbformat": 4,
 "nbformat_minor": 5
}
