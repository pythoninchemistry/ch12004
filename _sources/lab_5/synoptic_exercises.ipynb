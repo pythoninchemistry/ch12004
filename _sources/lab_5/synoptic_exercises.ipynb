{
 "cells": [
  {
   "cell_type": "markdown",
   "id": "ecee1bc5-8f0a-4be3-a57a-ae6de5b2362f",
   "metadata": {},
   "source": [
    "# Synoptic exercises"
   ]
  },
  {
   "cell_type": "markdown",
   "id": "abf2926d",
   "metadata": {},
   "source": [
    "$\\require{mhchem}$"
   ]
  },
  {
   "cell_type": "markdown",
   "id": "0f3cbbe6-5e35-47c9-b562-473d16812b69",
   "metadata": {},
   "source": [
    "It's time to **plot**.\n",
    "\n",
    "**1.** You have been provided with an experimental pressure/volume isotherm for $\\ce{SF6}$ at $298\\,\\mathrm{K}$ in the form of a [csv file](https://raw.githubusercontent.com/pythoninchemistry/ch12004/main/CH12004/lab_5/isotherm.csv).\n",
    "\n",
    "a) Read in the experimental data using `numpy`, convert to SI units and plot the isotherm using `matplotlib`.\n",
    "\n",
    "b) Assuming ideality, the isotherm should be well modelled by the ideal gas law:\n",
    "\n",
    "$$p = \\frac{RT}{v},$$\n",
    "\n",
    "where $p$ is the pressure, $v$ is the molar volume ($V / n$), $R$ is the gas constant and $T$ is the temperature.\n",
    "\n",
    "Write a function to calculate the pressure with the ideal gas law and use this to model the $\\ce{SF6}$ isotherm between $v = 6.87 \\times 10^{-4}\\,\\mathrm{m}^{3}\\,\\mathrm{mol}^{-1}$ and $v = 4.47 \\times 10^{-3}\\,\\mathrm{m}^{3}\\,\\mathrm{mol}^{-1}$. Plot your modelled isotherm against the experimental data.\n",
    "\n",
    "c) Non-ideality due to intermolecular interactions and other factors can be accounted for (in part) by the Van der Waals equation of state:\n",
    "\n",
    "$$p = \\frac{RT}{v - b} - \\frac{a}{v^{2}},$$\n",
    "\n",
    "where $p$ is the pressure, $R$ is the gas constant, $v$ is the molar volume and $a$ and $b$ are system dependent constants that describe the strength of the interactions and excluded volume effects respectively.\n",
    "\n",
    "Write a function to calculate the pressure with the Van der Waals equation and use this to model the $\\ce{SF6}$ isotherm with $a = 7.857 \\times 10^{-1}\\,\\mathrm{m}^6\\,\\mathrm{Pa\\, mol}^{-2}$ and $b = 8.79 \\times 10^{-5}\\,\\mathrm{m}^3\\,\\mathrm{mol}^{-1}$ between $v = 6.87 \\times 10^{-4}\\,\\mathrm{m}^3\\,\\mathrm{mol}^{-1}$ and $v = 4.47 \\times 10^{-3}\\,\\mathrm{m}^3\\,\\mathrm{mol}^{-1}$. Plot your modelled isotherm and compare this against the idealised curve and the experimental data.\n",
    "\n",
    "**2.** The **mean activity** of ions in solution can be measured experimentally. You have been provided with the mean activity of $\\ce{Na2SO4}$ at $298\\,\\mathrm{K}$ for a range of ionic strengths: [activity.dat](https://raw.githubusercontent.com/pythoninchemistry/ch12004/main/CH12004/lab_5/activity.dat)\n",
    "\n",
    "a) Use `matplotlib` to render a scatter plot of the mean activity as a function of the ionic strength $I$.\n",
    "\n",
    "b) The mean activity can be predicted by the Debye-Huckel limiting law:\n",
    "\n",
    "$$\\ln\\gamma_{\\pm} = -|z_{+}z_{-}|A\\sqrt{I},$$\n",
    "\n",
    "where $z_{+}$ and $z_{-}$ are the charges of the cations and anions, $I$ is the ionic strength and $A$ is a solvent and temperature dependent constant.\n",
    "\n",
    "Write a function to calculate the mean activity according to the Debye-Huckel limiting law (feel free to reuse your code from [previous exercises](../lab_4/functions.ipynb)). Using $A = 1.179\\,$M$^{\\frac{1}{2}}$, plot the Debye-Huckel mean activity from $I = 0\\,$M to $I = 6\\,$M and compare this with the experimental values.\n",
    "\n",
    "c) There are several extensions of the Debye-Huckel limiting law that aim to improve its description of the mean activity outside of the dilute limit. One such extension is:\n",
    "\n",
    "$$\\ln\\gamma_{\\pm} = -|z_{+}z_{-}|\\frac{A\\sqrt{I}}{1 + Ba_{0}\\sqrt{I}},$$\n",
    "\n",
    "where $B$ is another solvent and temperature dependent constant and $a_{0}$ is the distance of closest approach (expected to be proportional to the closest distance between ions in solution).\n",
    "\n",
    "Write a function to calculate the mean activity according to the extended Debye-Huckel limiting law. Using $B = 18.3$ and $a_{0} = 0.071$, plot the extended Debye-Huckel mean activity from $I = 0\\,$M to $I = 6\\,$M and compare this with the experimental values and the original Debye-Huckel limiting law."
   ]
  },
  {
   "cell_type": "code",
   "execution_count": null,
   "id": "0b05fd73-4059-446f-ba7a-efa2bb1ec4c8",
   "metadata": {},
   "outputs": [],
   "source": []
  }
 ],
 "metadata": {
  "kernelspec": {
   "display_name": "fbase",
   "language": "python",
   "name": "python3"
  },
  "language_info": {
   "codemirror_mode": {
    "name": "ipython",
    "version": 3
   },
   "file_extension": ".py",
   "mimetype": "text/x-python",
   "name": "python",
   "nbconvert_exporter": "python",
   "pygments_lexer": "ipython3",
   "version": "3.12.4"
  }
 },
 "nbformat": 4,
 "nbformat_minor": 5
}
