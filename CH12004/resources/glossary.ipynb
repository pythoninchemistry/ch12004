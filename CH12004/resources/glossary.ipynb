{
 "cells": [
  {
   "cell_type": "markdown",
   "id": "b2aae484-ab38-4afb-bce3-f79222512d61",
   "metadata": {},
   "source": [
    "# Glossary"
   ]
  },
  {
   "cell_type": "markdown",
   "id": "3dd190cb-c8c4-4f44-9f2c-90b666c6acea",
   "metadata": {},
   "source": [
    "## Syntax"
   ]
  },
  {
   "cell_type": "markdown",
   "id": "8d60177a-5e96-4216-825b-5dc75cd87433",
   "metadata": {},
   "source": [
    "**Syntax** refers to how code is structured in a programming language. \n",
    "\n",
    "For example, the **syntax** for creating a `list` in Python is a comma-separated sequence of values enclosed by square brackets:\n",
    "\n",
    "```python\n",
    "[1, 2, 3, 4, 5]\n",
    "```"
   ]
  },
  {
   "cell_type": "markdown",
   "id": "4f23d4f5-9c0d-4819-8c24-a2ba7e0b0c3c",
   "metadata": {},
   "source": [
    "## Built-in"
   ]
  },
  {
   "cell_type": "markdown",
   "id": "2bd2bc84-d417-4a4f-a424-2cc3b54241d2",
   "metadata": {},
   "source": [
    "If something is **built-in** then it is either available by default, or can be accessed without installing any third-party software. In Python, there are various **built-in** functions such as `print` or `type`, as well as **built-in** libraries that can be imported without explictly installing them separately such as `math`."
   ]
  },
  {
   "cell_type": "markdown",
   "id": "f7488265-58d1-415a-8dff-91c9bef71b27",
   "metadata": {},
   "source": [
    "## Libraries and packages"
   ]
  },
  {
   "cell_type": "markdown",
   "id": "4ef27983-1072-460d-a803-f32cc660329f",
   "metadata": {},
   "source": [
    "A **library** or **package** is a collection of code that may be built-in or external to a given programming language. **Libraries** are usually written for a specific purpose e.g. the `scipy` library contains various functions and constants that are helpful for scientific applications."
   ]
  },
  {
   "cell_type": "markdown",
   "id": "c8f4b409-1436-4da9-b582-e2b0f40b34fb",
   "metadata": {},
   "source": [
    "## Function calls"
   ]
  },
  {
   "cell_type": "markdown",
   "id": "b750fba8-4f42-4094-9c3b-45b6ff1b6723",
   "metadata": {},
   "source": [
    "Whenever a line of code uses a function, this is referred to as a **function call**. For example:\n",
    "\n",
    "```python\n",
    "import math\n",
    "\n",
    "math.sin(math.pi / 2)\n",
    "```\n",
    "\n",
    "We would say that the second line above **calls** the `math.sin` function."
   ]
  },
  {
   "cell_type": "markdown",
   "id": "dc23caf2-bbc1-49e5-8857-787e1e1744aa",
   "metadata": {},
   "source": [
    "## Data structures"
   ]
  },
  {
   "cell_type": "markdown",
   "id": "75c8cc41-ce37-468b-8892-35c0d41e9f05",
   "metadata": {},
   "source": [
    "A **data structure** is an object that allows us to store and retrieve data in an ordered or otherwise structured manner. Lists, tuples, dictionaries and `numpy` arrays are all **data structures** that allow us to sort, order and index data in various different ways."
   ]
  },
  {
   "cell_type": "markdown",
   "id": "e1d718fc-203b-4030-861f-e06ee38188f2",
   "metadata": {},
   "source": [
    "## Elements and items"
   ]
  },
  {
   "cell_type": "markdown",
   "id": "0b89ecda-ef0d-44a2-8c7e-1ae71e08d55c",
   "metadata": {},
   "source": [
    "Each value in an ordered sequence of any kind is referred to as an **element** or **item**. For example, in the tuple below:\n",
    "\n",
    "```python\n",
    "(5, 10, 15, 20, 25)\n",
    "```\n",
    "\n",
    "$10$ is the **second** element."
   ]
  },
  {
   "cell_type": "markdown",
   "id": "58e501bb-6005-401e-97a2-5c73bce9cb83",
   "metadata": {},
   "source": [
    "## Indices"
   ]
  },
  {
   "cell_type": "markdown",
   "id": "40c3a4d8-0e8f-4a89-8c16-6d95b724baca",
   "metadata": {},
   "source": [
    "An **index** is a integer that represents the position of a given item in an ordered sequence such as a `list`. For example:\n",
    "\n",
    "```python\n",
    "['a', 'b', 'c', 'd', 'e', 'f']\n",
    "```\n",
    "\n",
    "Here `'c'` is located at index $2$. Remember that Python, and many other programming languages, start counting from **zero**, so `'a'` is at index $0$, `'b'` at index $1$ etc.\n",
    "\n",
    "When you access the elements of a list or other structure using square brackets, you are said to be **indexing** this list."
   ]
  }
 ],
 "metadata": {
  "kernelspec": {
   "display_name": "Python 3 (ipykernel)",
   "language": "python",
   "name": "python3"
  },
  "language_info": {
   "codemirror_mode": {
    "name": "ipython",
    "version": 3
   },
   "file_extension": ".py",
   "mimetype": "text/x-python",
   "name": "python",
   "nbconvert_exporter": "python",
   "pygments_lexer": "ipython3",
   "version": "3.12.0"
  }
 },
 "nbformat": 4,
 "nbformat_minor": 5
}
